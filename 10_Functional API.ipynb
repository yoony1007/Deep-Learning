{
 "cells": [
  {
   "cell_type": "markdown",
   "metadata": {},
   "source": [
    "# Functional API\n",
    "- Sequential 모델은 각 Layer들의 입력과 출력이 하나라고 가정. 그리고 각각의 Layer(입력층, 은닉층, 출력층)들을 차례대로 쌓아 구성\n",
    "- 함수형 API를 사용하면 **다중입력, 다중출력, 그래프 형태**의 다양한 형태의 모델을 유연하게 구성 가능\n",
    "\n",
    "- Functional API는 직접 텐서들의 입출력을 다룸\n",
    "- 함수호출처럼 Layer를 이용하여 텐서를 입력 받고 출력하는 형식으로 모델을 구현\n",
    "    - 코드상에서는 Layer를 입력받는 형식으로 작성\n",
    "\n",
    "\n",
    "```\n",
    "input_tensor = Input(shape=(16,))\n",
    "dense = layers.Dense(32, activation='relu')(input_tensor)\n",
    "output_tensor = layers.Dense(32, activation='sigmoid')(dense)\n",
    "\n",
    "model = models.Model(input_tensor, output_tensor)\n",
    "```"
   ]
  },
  {
   "cell_type": "code",
   "execution_count": 12,
   "metadata": {},
   "outputs": [],
   "source": [
    "# Python의 magic method\n",
    "# 객체를 함수처럼 불러서 쓸 수 있게 됨\n",
    "class Test:\n",
    "    def __init__(self, name):\n",
    "        self.name = name\n",
    "   # 객체를 함수처럼 호출할 수 있게 해주는 특수 메소드 - special method, 던더메서드\n",
    "    def __call__(self):\n",
    "        print(\"__call__\", self.name)\n",
    "    def __str__(self):\n",
    "        return \"문자열\"\n",
    "    def m(self):\n",
    "        print('M')"
   ]
  },
  {
   "cell_type": "code",
   "execution_count": 13,
   "metadata": {},
   "outputs": [],
   "source": [
    "t = Test('홍길동')"
   ]
  },
  {
   "cell_type": "code",
   "execution_count": 14,
   "metadata": {},
   "outputs": [],
   "source": [
    "# t.m(), t.name"
   ]
  },
  {
   "cell_type": "code",
   "execution_count": 11,
   "metadata": {},
   "outputs": [
    {
     "name": "stdout",
     "output_type": "stream",
     "text": [
      "__call__ 홍길동\n"
     ]
    }
   ],
   "source": [
    "t()"
   ]
  },
  {
   "cell_type": "code",
   "execution_count": 15,
   "metadata": {},
   "outputs": [
    {
     "data": {
      "text/plain": [
       "'문자열'"
      ]
     },
     "execution_count": 15,
     "metadata": {},
     "output_type": "execute_result"
    }
   ],
   "source": [
    "str(t)"
   ]
  },
  {
   "cell_type": "code",
   "execution_count": 16,
   "metadata": {},
   "outputs": [
    {
     "name": "stdout",
     "output_type": "stream",
     "text": [
      "__call__ 홍길동\n"
     ]
    }
   ],
   "source": [
    "Test('홍길동')()"
   ]
  },
  {
   "cell_type": "markdown",
   "metadata": {},
   "source": [
    "## Sequential, Functional API "
   ]
  },
  {
   "cell_type": "code",
   "execution_count": 2,
   "metadata": {},
   "outputs": [],
   "source": [
    "import tensorflow as tf\n",
    "from tensorflow import keras\n",
    "from tensorflow.keras import layers,models"
   ]
  },
  {
   "cell_type": "markdown",
   "metadata": {},
   "source": [
    "### Sequential"
   ]
  },
  {
   "cell_type": "code",
   "execution_count": 19,
   "metadata": {},
   "outputs": [
    {
     "name": "stdout",
     "output_type": "stream",
     "text": [
      "Model: \"sequential_1\"\n",
      "_________________________________________________________________\n",
      "Layer (type)                 Output Shape              Param #   \n",
      "=================================================================\n",
      "conv2d_1 (Conv2D)            (None, 32, 32, 64)        1792      \n",
      "_________________________________________________________________\n",
      "flatten_1 (Flatten)          (None, 65536)             0         \n",
      "_________________________________________________________________\n",
      "dense_2 (Dense)              (None, 256)               16777472  \n",
      "_________________________________________________________________\n",
      "output_layer (Dense)         (None, 10)                2570      \n",
      "=================================================================\n",
      "Total params: 16,781,834\n",
      "Trainable params: 16,781,834\n",
      "Non-trainable params: 0\n",
      "_________________________________________________________________\n"
     ]
    }
   ],
   "source": [
    "seq_model = keras.Sequential()\n",
    "seq_model.add(layers.Input(shape = (32, 32, 3)))\n",
    "seq_model.add(layers.Conv2D(filters = 64, kernel_size = 3, padding = 'same', activation = 'relu'))\n",
    "seq_model.add(layers.Flatten())\n",
    "seq_model.add(layers.Dense(units = 256, activation = 'relu'))\n",
    "# layer에 이름 지정\n",
    "seq_model.add(layers.Dense(units = 10, activation = 'softmax', name = 'output_layer'))\n",
    "seq_model.summary()"
   ]
  },
  {
   "cell_type": "markdown",
   "metadata": {},
   "source": [
    "### Functional"
   ]
  },
  {
   "cell_type": "code",
   "execution_count": 12,
   "metadata": {},
   "outputs": [
    {
     "name": "stdout",
     "output_type": "stream",
     "text": [
      "Model: \"model_2\"\n",
      "_________________________________________________________________\n",
      "Layer (type)                 Output Shape              Param #   \n",
      "=================================================================\n",
      "input_8 (InputLayer)         [(None, 32, 32, 3)]       0         \n",
      "_________________________________________________________________\n",
      "conv2d_7 (Conv2D)            (None, 32, 32, 64)        1792      \n",
      "_________________________________________________________________\n",
      "max_pooling2d (MaxPooling2D) (None, 16, 16, 64)        0         \n",
      "_________________________________________________________________\n",
      "flatten_7 (Flatten)          (None, 16384)             0         \n",
      "_________________________________________________________________\n",
      "dense_15 (Dense)             (None, 256)               4194560   \n",
      "_________________________________________________________________\n",
      "dense_16 (Dense)             (None, 128)               32896     \n",
      "_________________________________________________________________\n",
      "batch_normalization_6 (Batch (None, 128)               512       \n",
      "_________________________________________________________________\n",
      "re_lu_1 (ReLU)               (None, 128)               0         \n",
      "_________________________________________________________________\n",
      "dense_17 (Dense)             (None, 10)                1290      \n",
      "=================================================================\n",
      "Total params: 4,231,050\n",
      "Trainable params: 4,230,794\n",
      "Non-trainable params: 256\n",
      "_________________________________________________________________\n"
     ]
    }
   ],
   "source": [
    "input_tensor = layers.Input(shape = (32, 32, 3))\n",
    "conv_tensor = layers.Conv2D(filters = 64, kernel_size = 3, padding = 'same', activation = 'relu')(input_tensor)\n",
    "pool_tensor = layers.MaxPool2D(padding = 'same')(conv_tensor)\n",
    "\n",
    "flatten_tensor = layers.Flatten()(pool_tensor)\n",
    "\n",
    "dense_tensor = layers.Dense(units = 256, activation = 'relu')(flatten_tensor)\n",
    "dense_tensor2 = layers.Dense(units = 128)(dense_tensor)\n",
    "\n",
    "bn_tensor = layers.BatchNormalization()(dense_tensor2)\n",
    "relu_tensor = layers.ReLU()(bn_tensor)\n",
    "\n",
    "output_tensor = layers.Dense(units = 10, activation = 'softmax')(relu_tensor)\n",
    "\n",
    "# (입력텐서, 출력텐서)\n",
    "fn_model = models.Model(input_tensor, output_tensor)\n",
    "\n",
    "fn_model.summary()"
   ]
  },
  {
   "cell_type": "code",
   "execution_count": 5,
   "metadata": {},
   "outputs": [
    {
     "data": {
      "image/png": "[encoded data removed]",
      "text/plain": [
       "<IPython.core.display.Image object>"
      ]
     },
     "execution_count": 5,
     "metadata": {},
     "output_type": "execute_result"
    }
   ],
   "source": [
    "keras.utils.plot_model(fn_model, show_shapes = True)"
   ]
  },
  {
   "cell_type": "code",
   "execution_count": 15,
   "metadata": {},
   "outputs": [
    {
     "name": "stdout",
     "output_type": "stream",
     "text": [
      "Model: \"model_5\"\n",
      "_________________________________________________________________\n",
      "Layer (type)                 Output Shape              Param #   \n",
      "=================================================================\n",
      "input_11 (InputLayer)        [(None, 32, 32, 3)]       0         \n",
      "_________________________________________________________________\n",
      "conv2d_10 (Conv2D)           (None, 32, 32, 64)        1792      \n",
      "_________________________________________________________________\n",
      "max_pooling2d_3 (MaxPooling2 (None, 16, 16, 64)        0         \n",
      "_________________________________________________________________\n",
      "flatten_10 (Flatten)         (None, 16384)             0         \n",
      "_________________________________________________________________\n",
      "dense_24 (Dense)             (None, 256)               4194560   \n",
      "_________________________________________________________________\n",
      "dense_25 (Dense)             (None, 128)               32896     \n",
      "_________________________________________________________________\n",
      "batch_normalization_9 (Batch (None, 128)               512       \n",
      "_________________________________________________________________\n",
      "re_lu_4 (ReLU)               (None, 128)               0         \n",
      "_________________________________________________________________\n",
      "dense_26 (Dense)             (None, 10)                1290      \n",
      "=================================================================\n",
      "Total params: 4,231,050\n",
      "Trainable params: 4,230,794\n",
      "Non-trainable params: 256\n",
      "_________________________________________________________________\n"
     ]
    }
   ],
   "source": [
    "# 재사용할 필요 없다면, 변수 통일(input_tensor, output_tensor 제외)\n",
    "input_tensor = layers.Input(shape = (32, 32, 3))\n",
    "x = layers.Conv2D(filters = 64, kernel_size = 3, padding = 'same', activation = 'relu')(input_tensor)\n",
    "x = layers.MaxPool2D(padding = 'same')(x)\n",
    "\n",
    "x = layers.Flatten()(x)\n",
    "\n",
    "x = layers.Dense(units = 256, activation = 'relu')(x)\n",
    "x = layers.Dense(units = 128)(x)\n",
    "\n",
    "x = layers.BatchNormalization()(x)\n",
    "x = layers.ReLU()(x)\n",
    "\n",
    "output_tensor = layers.Dense(units = 10, activation = 'softmax')(x)\n",
    "\n",
    "# (입력텐서, 출력텐서)\n",
    "fn_model = models.Model(input_tensor, output_tensor)\n",
    "\n",
    "fn_model.summary()"
   ]
  },
  {
   "cell_type": "markdown",
   "metadata": {},
   "source": [
    "## 레이어를 합치는 함수\n",
    "- concatenate(list, axis=-1)\n",
    "    - 레이어들을 합침\n",
    "    - list: 합칠 레이어들을 리스트에 묶어 전달\n",
    "    - axis: 합칠 기준축(기본값: -1 : 마지막 축 기준)\n",
    "- add(list), substract(list), multiply(list)\n",
    "    - 같은 index의 값들을 계산해서(더하기, 빼기, 곱하기) 하나의 레이어로 만듬\n",
    "    - list: 합칠 레이어들을 리스트에 묶어 전달"
   ]
  },
  {
   "cell_type": "code",
   "execution_count": 16,
   "metadata": {},
   "outputs": [],
   "source": [
    "# Residual block\n",
    "input_tensor = layers.Input((32, 32, 3))\n",
    "x = layers.Conv2D(64,kernel_size = 3, padding = 'same', activation = 'relu')(input_tensor)\n",
    "x1 = layers.Conv2D(64, kernel_size = 3, padding = 'same')(x)\n",
    "b1 = layers.BatchNormalization()(x1)\n",
    "add1 = layers.add([x, b1])\n",
    "r = layers.ReLU()(add1)\n",
    "\n",
    "r_block_model = models.Model(input_tensor, r)"
   ]
  },
  {
   "cell_type": "code",
   "execution_count": 17,
   "metadata": {},
   "outputs": [
    {
     "name": "stdout",
     "output_type": "stream",
     "text": [
      "Model: \"model_6\"\n",
      "__________________________________________________________________________________________________\n",
      "Layer (type)                    Output Shape         Param #     Connected to                     \n",
      "==================================================================================================\n",
      "input_12 (InputLayer)           [(None, 32, 32, 3)]  0                                            \n",
      "__________________________________________________________________________________________________\n",
      "conv2d_11 (Conv2D)              (None, 32, 32, 64)   1792        input_12[0][0]                   \n",
      "__________________________________________________________________________________________________\n",
      "conv2d_12 (Conv2D)              (None, 32, 32, 64)   36928       conv2d_11[0][0]                  \n",
      "__________________________________________________________________________________________________\n",
      "batch_normalization_10 (BatchNo (None, 32, 32, 64)   256         conv2d_12[0][0]                  \n",
      "__________________________________________________________________________________________________\n",
      "add (Add)                       (None, 32, 32, 64)   0           conv2d_11[0][0]                  \n",
      "                                                                 batch_normalization_10[0][0]     \n",
      "__________________________________________________________________________________________________\n",
      "re_lu_5 (ReLU)                  (None, 32, 32, 64)   0           add[0][0]                        \n",
      "==================================================================================================\n",
      "Total params: 38,976\n",
      "Trainable params: 38,848\n",
      "Non-trainable params: 128\n",
      "__________________________________________________________________________________________________\n"
     ]
    }
   ],
   "source": [
    "r_block_model.summary()"
   ]
  },
  {
   "cell_type": "code",
   "execution_count": 18,
   "metadata": {},
   "outputs": [
    {
     "data": {
      "image/png": "[encoded data removed]",
      "text/plain": [
       "<IPython.core.display.Image object>"
      ]
     },
     "execution_count": 18,
     "metadata": {},
     "output_type": "execute_result"
    }
   ],
   "source": [
    "keras.utils.plot_model(r_block_model)"
   ]
  },
  {
   "cell_type": "markdown",
   "metadata": {},
   "source": [
    "### 다중 출력 모델\n",
    "- 가정\n",
    "    - iris 데이터셋에서 꽃받침의 너비와 높이로 꽃잎의 너비, 높이, 꽃 종류를 예측하는 모델\n",
    "    - 출력결과가 3개가 나와야 함\n",
    "- X: 꽃받침 너비, 높이\n",
    "- y: 꽃잎 너비, 높이, 꽃 종류"
   ]
  },
  {
   "cell_type": "code",
   "execution_count": 19,
   "metadata": {},
   "outputs": [
    {
     "name": "stdout",
     "output_type": "stream",
     "text": [
      "Name: scikit-learn\n",
      "Version: 0.23.2\n",
      "Summary: A set of python modules for machine learning and data mining\n",
      "Home-page: http://scikit-learn.org\n",
      "Author: None\n",
      "Author-email: None\n",
      "License: new BSD\n",
      "Location: c:\\users\\jiyoon\\anaconda3\\envs\\tf2\\lib\\site-packages\n",
      "Requires: scipy, threadpoolctl, joblib, numpy\n",
      "Required-by: \n"
     ]
    }
   ],
   "source": [
    "!pip show scikit-learn"
   ]
  },
  {
   "cell_type": "code",
   "execution_count": 20,
   "metadata": {},
   "outputs": [
    {
     "data": {
      "text/plain": [
       "((150, 4), (150,))"
      ]
     },
     "execution_count": 20,
     "metadata": {},
     "output_type": "execute_result"
    }
   ],
   "source": [
    "from sklearn.datasets import load_iris\n",
    "\n",
    "iris = load_iris()\n",
    "X, y = iris['data'], iris['target']\n",
    "X.shape, y.shape"
   ]
  },
  {
   "cell_type": "code",
   "execution_count": 21,
   "metadata": {},
   "outputs": [],
   "source": [
    "y1 = X[:, 2]  # 꽃잎 너비\n",
    "y2 = X[:, 3]  # 꽃잎 높이\n",
    "y3 = y  # 품종\n",
    "\n",
    "X = X[:, [0, 1]]"
   ]
  },
  {
   "cell_type": "code",
   "execution_count": 22,
   "metadata": {},
   "outputs": [
    {
     "data": {
      "text/plain": [
       "((150, 2), (150,), (150,), (150,))"
      ]
     },
     "execution_count": 22,
     "metadata": {},
     "output_type": "execute_result"
    }
   ],
   "source": [
    "X.shape, y1.shape, y2.shape, y3.shape"
   ]
  },
  {
   "cell_type": "code",
   "execution_count": 24,
   "metadata": {},
   "outputs": [],
   "source": [
    "import tensorflow as tf\n",
    "from tensorflow import keras\n",
    "from tensorflow.keras import layers, models"
   ]
  },
  {
   "cell_type": "code",
   "execution_count": 25,
   "metadata": {},
   "outputs": [],
   "source": [
    "input_tensor = layers.Input((2, ))\n",
    "x = layers.Dense(units = 16, activation = 'relu')(input_tensor)\n",
    "x = layers.Dense(units = 8, activation = 'relu')(x)\n",
    "output1 = layers.Dense(1, name = 'petal_width_output')(x)  # 꽃잎 너비 예측(Regression: units = 1, activation = x)\n",
    "output2 = layers.Dense(1, name = 'petal_length_output')(x)  # 꽃잎 높이 예측(Regression: units = 1, activation = x)\n",
    "output3 = layers.Dense(3, activation = 'softmax', name = 'species_output')(x)  # 품종 예측(다중분류: units - class 개수(3), activation = 'softmax')\n",
    "\n",
    "# Model(input, output)\n",
    "# input, output이 여러 개인 경우 리스트로 묶음\n",
    "model = models.Model(input_tensor, [output1, output2, output3])"
   ]
  },
  {
   "cell_type": "code",
   "execution_count": 26,
   "metadata": {},
   "outputs": [
    {
     "name": "stdout",
     "output_type": "stream",
     "text": [
      "Model: \"model_7\"\n",
      "__________________________________________________________________________________________________\n",
      "Layer (type)                    Output Shape         Param #     Connected to                     \n",
      "==================================================================================================\n",
      "input_13 (InputLayer)           [(None, 2)]          0                                            \n",
      "__________________________________________________________________________________________________\n",
      "dense_27 (Dense)                (None, 16)           48          input_13[0][0]                   \n",
      "__________________________________________________________________________________________________\n",
      "dense_28 (Dense)                (None, 8)            136         dense_27[0][0]                   \n",
      "__________________________________________________________________________________________________\n",
      "petal_width_output (Dense)      (None, 1)            9           dense_28[0][0]                   \n",
      "__________________________________________________________________________________________________\n",
      "petal_length_output (Dense)     (None, 1)            9           dense_28[0][0]                   \n",
      "__________________________________________________________________________________________________\n",
      "species_output (Dense)          (None, 3)            27          dense_28[0][0]                   \n",
      "==================================================================================================\n",
      "Total params: 229\n",
      "Trainable params: 229\n",
      "Non-trainable params: 0\n",
      "__________________________________________________________________________________________________\n"
     ]
    }
   ],
   "source": [
    "model.summary()"
   ]
  },
  {
   "cell_type": "code",
   "execution_count": 27,
   "metadata": {
    "scrolled": true
   },
   "outputs": [
    {
     "data": {
      "image/png": "[encoded data removed]",
      "text/plain": [
       "<IPython.core.display.Image object>"
      ]
     },
     "execution_count": 27,
     "metadata": {},
     "output_type": "execute_result"
    }
   ],
   "source": [
    "keras.utils.plot_model(model,show_shapes = True)"
   ]
  },
  {
   "cell_type": "code",
   "execution_count": 28,
   "metadata": {},
   "outputs": [],
   "source": [
    "# compile\n",
    "model.compile(optimizer = 'adam',\n",
    "              # 출력이 3개 - 각각의 순서대로 Loss를 리스트로 묶어서 제공\n",
    "              loss = ['mse', 'mse', 'sparse_categorical_crossentropy']) \n",
    "# 역전파를 통해 weight를 업데이트 할때는 위 3개의 Loss를 더한 총 Loss로 역전파 진행"
   ]
  },
  {
   "cell_type": "code",
   "execution_count": 30,
   "metadata": {},
   "outputs": [
    {
     "name": "stdout",
     "output_type": "stream",
     "text": [
      "Train on 135 samples, validate on 15 samples\n",
      "Epoch 1/100\n",
      "135/135 [==============================] - 3s 24ms/sample - loss: 32.9376 - petal_width_output_loss: 23.1059 - petal_length_output_loss: 7.2971 - species_output_loss: 1.8652 - val_loss: 54.5606 - val_petal_width_output_loss: 39.3503 - val_petal_length_output_loss: 13.1686 - val_species_output_loss: 2.0417\n",
      "Epoch 2/100\n",
      "135/135 [==============================] - 0s 251us/sample - loss: 29.8088 - petal_width_output_loss: 21.1737 - petal_length_output_loss: 6.2525 - species_output_loss: 1.8208 - val_loss: 50.0462 - val_petal_width_output_loss: 36.6147 - val_petal_length_output_loss: 11.6848 - val_species_output_loss: 1.7467\n",
      "Epoch 3/100\n",
      "135/135 [==============================] - 0s 347us/sample - loss: 27.6674 - petal_width_output_loss: 19.8223 - petal_length_output_loss: 5.4951 - species_output_loss: 1.8039 - val_loss: 47.8999 - val_petal_width_output_loss: 35.6074 - val_petal_length_output_loss: 10.7125 - val_species_output_loss: 1.5800\n",
      "Epoch 4/100\n",
      "135/135 [==============================] - 0s 406us/sample - loss: 26.3391 - petal_width_output_loss: 19.8953 - petal_length_output_loss: 4.9659 - species_output_loss: 1.6686 - val_loss: 45.8179 - val_petal_width_output_loss: 34.4262 - val_petal_length_output_loss: 9.9831 - val_species_output_loss: 1.4086\n",
      "Epoch 5/100\n",
      "135/135 [==============================] - 0s 273us/sample - loss: 25.0373 - petal_width_output_loss: 19.1784 - petal_length_output_loss: 4.5229 - species_output_loss: 1.5803 - val_loss: 43.8749 - val_petal_width_output_loss: 33.1920 - val_petal_length_output_loss: 9.4250 - val_species_output_loss: 1.2578\n",
      "Epoch 6/100\n",
      "135/135 [==============================] - 0s 310us/sample - loss: 23.8444 - petal_width_output_loss: 17.4276 - petal_length_output_loss: 4.0075 - species_output_loss: 1.4869 - val_loss: 42.1070 - val_petal_width_output_loss: 32.0267 - val_petal_length_output_loss: 8.9379 - val_species_output_loss: 1.1423\n",
      "Epoch 7/100\n",
      "135/135 [==============================] - 0s 266us/sample - loss: 22.7566 - petal_width_output_loss: 17.8087 - petal_length_output_loss: 3.9990 - species_output_loss: 1.3297 - val_loss: 40.5625 - val_petal_width_output_loss: 31.1151 - val_petal_length_output_loss: 8.3679 - val_species_output_loss: 1.0796\n",
      "Epoch 8/100\n",
      "135/135 [==============================] - 0s 332us/sample - loss: 21.8370 - petal_width_output_loss: 16.0752 - petal_length_output_loss: 3.3100 - species_output_loss: 1.2517 - val_loss: 39.2052 - val_petal_width_output_loss: 30.4719 - val_petal_length_output_loss: 7.6685 - val_species_output_loss: 1.0647\n",
      "Epoch 9/100\n",
      "135/135 [==============================] - 0s 310us/sample - loss: 21.0075 - petal_width_output_loss: 17.3071 - petal_length_output_loss: 3.2533 - species_output_loss: 1.2496 - val_loss: 38.0097 - val_petal_width_output_loss: 29.8795 - val_petal_length_output_loss: 7.0557 - val_species_output_loss: 1.0745\n",
      "Epoch 10/100\n",
      "135/135 [==============================] - 0s 207us/sample - loss: 20.2797 - petal_width_output_loss: 16.3898 - petal_length_output_loss: 2.7984 - species_output_loss: 1.1888 - val_loss: 36.9188 - val_petal_width_output_loss: 29.2953 - val_petal_length_output_loss: 6.5205 - val_species_output_loss: 1.1029\n",
      "Epoch 11/100\n",
      "135/135 [==============================] - 0s 310us/sample - loss: 19.6441 - petal_width_output_loss: 15.1212 - petal_length_output_loss: 2.4202 - species_output_loss: 1.1844 - val_loss: 35.9576 - val_petal_width_output_loss: 28.7239 - val_petal_length_output_loss: 6.0871 - val_species_output_loss: 1.1466\n",
      "Epoch 12/100\n",
      "135/135 [==============================] - 0s 299us/sample - loss: 19.0520 - petal_width_output_loss: 15.3528 - petal_length_output_loss: 2.2601 - species_output_loss: 1.1562 - val_loss: 35.0677 - val_petal_width_output_loss: 28.1362 - val_petal_length_output_loss: 5.7313 - val_species_output_loss: 1.2002\n",
      "Epoch 13/100\n",
      "135/135 [==============================] - 0s 288us/sample - loss: 18.5223 - petal_width_output_loss: 15.6309 - petal_length_output_loss: 2.2308 - species_output_loss: 1.1504 - val_loss: 34.2460 - val_petal_width_output_loss: 27.5449 - val_petal_length_output_loss: 5.4381 - val_species_output_loss: 1.2630\n",
      "Epoch 14/100\n",
      "135/135 [==============================] - 0s 303us/sample - loss: 18.0761 - petal_width_output_loss: 14.4655 - petal_length_output_loss: 2.0412 - species_output_loss: 1.1267 - val_loss: 33.7034 - val_petal_width_output_loss: 27.1003 - val_petal_length_output_loss: 5.2870 - val_species_output_loss: 1.3161\n",
      "Epoch 15/100\n",
      "135/135 [==============================] - 0s 247us/sample - loss: 17.7970 - petal_width_output_loss: 14.2585 - petal_length_output_loss: 2.0239 - species_output_loss: 1.1251 - val_loss: 33.5453 - val_petal_width_output_loss: 26.8451 - val_petal_length_output_loss: 5.3502 - val_species_output_loss: 1.3500\n",
      "Epoch 16/100\n",
      "135/135 [==============================] - 0s 398us/sample - loss: 17.6740 - petal_width_output_loss: 15.3841 - petal_length_output_loss: 2.2459 - species_output_loss: 1.1473 - val_loss: 33.4315 - val_petal_width_output_loss: 26.5720 - val_petal_length_output_loss: 5.4706 - val_species_output_loss: 1.3889\n",
      "Epoch 17/100\n",
      "135/135 [==============================] - 0s 369us/sample - loss: 17.5611 - petal_width_output_loss: 13.3719 - petal_length_output_loss: 2.0089 - species_output_loss: 1.1102 - val_loss: 33.3083 - val_petal_width_output_loss: 26.2578 - val_petal_length_output_loss: 5.6174 - val_species_output_loss: 1.4331\n",
      "Epoch 18/100\n",
      "135/135 [==============================] - 0s 303us/sample - loss: 17.4409 - petal_width_output_loss: 13.6844 - petal_length_output_loss: 2.1913 - species_output_loss: 1.1257 - val_loss: 33.1753 - val_petal_width_output_loss: 25.9143 - val_petal_length_output_loss: 5.7779 - val_species_output_loss: 1.4831\n",
      "Epoch 19/100\n",
      "135/135 [==============================] - 0s 791us/sample - loss: 17.3117 - petal_width_output_loss: 13.1622 - petal_length_output_loss: 2.1719 - species_output_loss: 1.1247 - val_loss: 33.0299 - val_petal_width_output_loss: 25.5493 - val_petal_length_output_loss: 5.9439 - val_species_output_loss: 1.5367\n",
      "Epoch 20/100\n",
      "135/135 [==============================] - 0s 281us/sample - loss: 17.1769 - petal_width_output_loss: 12.8027 - petal_length_output_loss: 2.2457 - species_output_loss: 1.1303 - val_loss: 32.8683 - val_petal_width_output_loss: 25.1650 - val_petal_length_output_loss: 6.1106 - val_species_output_loss: 1.5926\n",
      "Epoch 21/100\n",
      "135/135 [==============================] - 0s 316us/sample - loss: 17.0327 - petal_width_output_loss: 12.7349 - petal_length_output_loss: 2.3104 - species_output_loss: 1.1444 - val_loss: 32.6857 - val_petal_width_output_loss: 24.7658 - val_petal_length_output_loss: 6.2728 - val_species_output_loss: 1.6471\n",
      "Epoch 22/100\n",
      "135/135 [==============================] - 0s 310us/sample - loss: 16.8782 - petal_width_output_loss: 13.0767 - petal_length_output_loss: 2.5096 - species_output_loss: 1.1606 - val_loss: 32.4798 - val_petal_width_output_loss: 24.3509 - val_petal_length_output_loss: 6.4279 - val_species_output_loss: 1.7010\n",
      "Epoch 23/100\n",
      "135/135 [==============================] - 0s 303us/sample - loss: 16.7124 - petal_width_output_loss: 12.9145 - petal_length_output_loss: 2.5796 - species_output_loss: 1.1730 - val_loss: 32.2435 - val_petal_width_output_loss: 23.9186 - val_petal_length_output_loss: 6.5730 - val_species_output_loss: 1.7519\n",
      "Epoch 24/100\n",
      "135/135 [==============================] - 0s 347us/sample - loss: 16.5308 - petal_width_output_loss: 13.4070 - petal_length_output_loss: 2.9280 - species_output_loss: 1.2319 - val_loss: 31.9760 - val_petal_width_output_loss: 23.4611 - val_petal_length_output_loss: 6.7120 - val_species_output_loss: 1.8029\n",
      "Epoch 25/100\n",
      "135/135 [==============================] - 0s 353us/sample - loss: 16.3345 - petal_width_output_loss: 12.0844 - petal_length_output_loss: 2.7062 - species_output_loss: 1.1923 - val_loss: 31.6676 - val_petal_width_output_loss: 22.9770 - val_petal_length_output_loss: 6.8412 - val_species_output_loss: 1.8494\n",
      "Epoch 26/100\n"
     ]
    },
    {
     "name": "stdout",
     "output_type": "stream",
     "text": [
      "135/135 [==============================] - 0s 322us/sample - loss: 16.1207 - petal_width_output_loss: 11.8060 - petal_length_output_loss: 2.9094 - species_output_loss: 1.1992 - val_loss: 31.3277 - val_petal_width_output_loss: 22.4689 - val_petal_length_output_loss: 6.9626 - val_species_output_loss: 1.8962\n",
      "Epoch 27/100\n",
      "135/135 [==============================] - 0s 355us/sample - loss: 15.8846 - petal_width_output_loss: 11.8209 - petal_length_output_loss: 2.8794 - species_output_loss: 1.2546 - val_loss: 30.9539 - val_petal_width_output_loss: 21.9397 - val_petal_length_output_loss: 7.0739 - val_species_output_loss: 1.9403\n",
      "Epoch 28/100\n",
      "135/135 [==============================] - 0s 355us/sample - loss: 15.6328 - petal_width_output_loss: 11.8942 - petal_length_output_loss: 3.1052 - species_output_loss: 1.2733 - val_loss: 30.5423 - val_petal_width_output_loss: 21.3796 - val_petal_length_output_loss: 7.1785 - val_species_output_loss: 1.9843\n",
      "Epoch 29/100\n",
      "135/135 [==============================] - 0s 374us/sample - loss: 15.3622 - petal_width_output_loss: 10.3158 - petal_length_output_loss: 2.9228 - species_output_loss: 1.1951 - val_loss: 30.0898 - val_petal_width_output_loss: 20.7952 - val_petal_length_output_loss: 7.2706 - val_species_output_loss: 2.0240\n",
      "Epoch 30/100\n",
      "135/135 [==============================] - 0s 269us/sample - loss: 15.0713 - petal_width_output_loss: 9.9030 - petal_length_output_loss: 2.9389 - species_output_loss: 1.1991 - val_loss: 29.6122 - val_petal_width_output_loss: 20.1957 - val_petal_length_output_loss: 7.3528 - val_species_output_loss: 2.0636\n",
      "Epoch 31/100\n",
      "135/135 [==============================] - 0s 413us/sample - loss: 14.7704 - petal_width_output_loss: 10.5865 - petal_length_output_loss: 3.2158 - species_output_loss: 1.2893 - val_loss: 29.0957 - val_petal_width_output_loss: 19.5702 - val_petal_length_output_loss: 7.4246 - val_species_output_loss: 2.1009\n",
      "Epoch 32/100\n",
      "135/135 [==============================] - 0s 325us/sample - loss: 14.4459 - petal_width_output_loss: 10.0933 - petal_length_output_loss: 3.2269 - species_output_loss: 1.2887 - val_loss: 28.5265 - val_petal_width_output_loss: 18.9050 - val_petal_length_output_loss: 7.4871 - val_species_output_loss: 2.1345\n",
      "Epoch 33/100\n",
      "135/135 [==============================] - 0s 539us/sample - loss: 14.0988 - petal_width_output_loss: 9.3763 - petal_length_output_loss: 3.1189 - species_output_loss: 1.2690 - val_loss: 27.9107 - val_petal_width_output_loss: 18.2078 - val_petal_length_output_loss: 7.5382 - val_species_output_loss: 2.1646\n",
      "Epoch 34/100\n",
      "135/135 [==============================] - 0s 382us/sample - loss: 13.7269 - petal_width_output_loss: 8.6752 - petal_length_output_loss: 3.0819 - species_output_loss: 1.2595 - val_loss: 27.2593 - val_petal_width_output_loss: 17.4909 - val_petal_length_output_loss: 7.5746 - val_species_output_loss: 2.1937\n",
      "Epoch 35/100\n",
      "135/135 [==============================] - 0s 339us/sample - loss: 13.3370 - petal_width_output_loss: 8.5030 - petal_length_output_loss: 3.2217 - species_output_loss: 1.2790 - val_loss: 26.5771 - val_petal_width_output_loss: 16.7594 - val_petal_length_output_loss: 7.5978 - val_species_output_loss: 2.2199\n",
      "Epoch 36/100\n",
      "135/135 [==============================] - 0s 547us/sample - loss: 12.9272 - petal_width_output_loss: 9.4590 - petal_length_output_loss: 3.6193 - species_output_loss: 1.3905 - val_loss: 25.8518 - val_petal_width_output_loss: 16.0041 - val_petal_length_output_loss: 7.6045 - val_species_output_loss: 2.2432\n",
      "Epoch 37/100\n",
      "135/135 [==============================] - 0s 961us/sample - loss: 12.5128 - petal_width_output_loss: 8.0823 - petal_length_output_loss: 3.3205 - species_output_loss: 1.3323 - val_loss: 25.0532 - val_petal_width_output_loss: 15.1975 - val_petal_length_output_loss: 7.5948 - val_species_output_loss: 2.2609\n",
      "Epoch 38/100\n",
      "135/135 [==============================] - 0s 399us/sample - loss: 12.0569 - petal_width_output_loss: 7.5743 - petal_length_output_loss: 3.3534 - species_output_loss: 1.3411 - val_loss: 24.2228 - val_petal_width_output_loss: 14.3721 - val_petal_length_output_loss: 7.5736 - val_species_output_loss: 2.2772\n",
      "Epoch 39/100\n",
      "135/135 [==============================] - 0s 488us/sample - loss: 11.5891 - petal_width_output_loss: 7.2282 - petal_length_output_loss: 3.2367 - species_output_loss: 1.3392 - val_loss: 23.3657 - val_petal_width_output_loss: 13.5396 - val_petal_length_output_loss: 7.5349 - val_species_output_loss: 2.2912\n",
      "Epoch 40/100\n",
      "135/135 [==============================] - 0s 669us/sample - loss: 11.1184 - petal_width_output_loss: 6.3956 - petal_length_output_loss: 3.0853 - species_output_loss: 1.2852 - val_loss: 22.4825 - val_petal_width_output_loss: 12.7059 - val_petal_length_output_loss: 7.4771 - val_species_output_loss: 2.2995\n",
      "Epoch 41/100\n",
      "135/135 [==============================] - 0s 545us/sample - loss: 10.6545 - petal_width_output_loss: 6.4002 - petal_length_output_loss: 3.2892 - species_output_loss: 1.3395 - val_loss: 21.5792 - val_petal_width_output_loss: 11.8770 - val_petal_length_output_loss: 7.3981 - val_species_output_loss: 2.3041\n",
      "Epoch 42/100\n",
      "135/135 [==============================] - 0s 359us/sample - loss: 10.1767 - petal_width_output_loss: 5.9828 - petal_length_output_loss: 3.1669 - species_output_loss: 1.3207 - val_loss: 20.6496 - val_petal_width_output_loss: 11.0464 - val_petal_length_output_loss: 7.2975 - val_species_output_loss: 2.3057\n",
      "Epoch 43/100\n",
      "135/135 [==============================] - 0s 351us/sample - loss: 9.7033 - petal_width_output_loss: 5.0367 - petal_length_output_loss: 2.9873 - species_output_loss: 1.2703 - val_loss: 19.7003 - val_petal_width_output_loss: 10.2216 - val_petal_length_output_loss: 7.1772 - val_species_output_loss: 2.3016\n",
      "Epoch 44/100\n",
      "135/135 [==============================] - 0s 345us/sample - loss: 9.2124 - petal_width_output_loss: 5.7709 - petal_length_output_loss: 3.2484 - species_output_loss: 1.3919 - val_loss: 18.7711 - val_petal_width_output_loss: 9.4410 - val_petal_length_output_loss: 7.0339 - val_species_output_loss: 2.2962\n",
      "Epoch 45/100\n",
      "135/135 [==============================] - 0s 303us/sample - loss: 8.7668 - petal_width_output_loss: 4.6269 - petal_length_output_loss: 3.0064 - species_output_loss: 1.2982 - val_loss: 17.7939 - val_petal_width_output_loss: 8.6469 - val_petal_length_output_loss: 6.8689 - val_species_output_loss: 2.2781\n",
      "Epoch 46/100\n",
      "135/135 [==============================] - 0s 303us/sample - loss: 8.3080 - petal_width_output_loss: 3.9589 - petal_length_output_loss: 2.6899 - species_output_loss: 1.2289 - val_loss: 16.8500 - val_petal_width_output_loss: 7.9107 - val_petal_length_output_loss: 6.6841 - val_species_output_loss: 2.2552\n",
      "Epoch 47/100\n",
      "135/135 [==============================] - 0s 296us/sample - loss: 7.8888 - petal_width_output_loss: 3.8098 - petal_length_output_loss: 2.6706 - species_output_loss: 1.2621 - val_loss: 15.9498 - val_petal_width_output_loss: 7.2356 - val_petal_length_output_loss: 6.4830 - val_species_output_loss: 2.2312\n",
      "Epoch 48/100\n",
      "135/135 [==============================] - 0s 301us/sample - loss: 7.4745 - petal_width_output_loss: 3.5992 - petal_length_output_loss: 2.5800 - species_output_loss: 1.2388 - val_loss: 15.0817 - val_petal_width_output_loss: 6.6075 - val_petal_length_output_loss: 6.2691 - val_species_output_loss: 2.2051\n",
      "Epoch 49/100\n",
      "135/135 [==============================] - 0s 312us/sample - loss: 7.1082 - petal_width_output_loss: 3.7472 - petal_length_output_loss: 2.7474 - species_output_loss: 1.3151 - val_loss: 14.2134 - val_petal_width_output_loss: 5.9925 - val_petal_length_output_loss: 6.0428 - val_species_output_loss: 2.1781\n",
      "Epoch 50/100\n",
      "135/135 [==============================] - 0s 310us/sample - loss: 6.7631 - petal_width_output_loss: 3.1045 - petal_length_output_loss: 2.1579 - species_output_loss: 1.1774 - val_loss: 13.3371 - val_petal_width_output_loss: 5.3920 - val_petal_length_output_loss: 5.8039 - val_species_output_loss: 2.1412\n",
      "Epoch 51/100\n",
      "135/135 [==============================] - 0s 366us/sample - loss: 6.4320 - petal_width_output_loss: 2.7814 - petal_length_output_loss: 1.9948 - species_output_loss: 1.1483 - val_loss: 12.5703 - val_petal_width_output_loss: 4.9095 - val_petal_length_output_loss: 5.5580 - val_species_output_loss: 2.1028\n"
     ]
    },
    {
     "name": "stdout",
     "output_type": "stream",
     "text": [
      "Epoch 52/100\n",
      "135/135 [==============================] - 0s 364us/sample - loss: 6.1433 - petal_width_output_loss: 2.8965 - petal_length_output_loss: 2.2279 - species_output_loss: 1.2635 - val_loss: 11.8796 - val_petal_width_output_loss: 4.5027 - val_petal_length_output_loss: 5.3112 - val_species_output_loss: 2.0657\n",
      "Epoch 53/100\n",
      "135/135 [==============================] - 0s 384us/sample - loss: 5.8825 - petal_width_output_loss: 2.5269 - petal_length_output_loss: 1.9476 - species_output_loss: 1.1605 - val_loss: 11.1817 - val_petal_width_output_loss: 4.0989 - val_petal_length_output_loss: 5.0617 - val_species_output_loss: 2.0211\n",
      "Epoch 54/100\n",
      "135/135 [==============================] - 0s 412us/sample - loss: 5.6339 - petal_width_output_loss: 2.5556 - petal_length_output_loss: 1.8260 - species_output_loss: 1.1715 - val_loss: 10.5453 - val_petal_width_output_loss: 3.7461 - val_petal_length_output_loss: 4.8135 - val_species_output_loss: 1.9857\n",
      "Epoch 55/100\n",
      "135/135 [==============================] - 0s 480us/sample - loss: 5.4056 - petal_width_output_loss: 2.3520 - petal_length_output_loss: 1.7828 - species_output_loss: 1.1854 - val_loss: 9.9614 - val_petal_width_output_loss: 3.4401 - val_petal_length_output_loss: 4.5708 - val_species_output_loss: 1.9505\n",
      "Epoch 56/100\n",
      "135/135 [==============================] - 0s 340us/sample - loss: 5.2244 - petal_width_output_loss: 2.3711 - petal_length_output_loss: 1.5596 - species_output_loss: 1.1510 - val_loss: 9.3859 - val_petal_width_output_loss: 3.1487 - val_petal_length_output_loss: 4.3290 - val_species_output_loss: 1.9082\n",
      "Epoch 57/100\n",
      "135/135 [==============================] - 0s 374us/sample - loss: 5.0534 - petal_width_output_loss: 2.3164 - petal_length_output_loss: 1.4861 - species_output_loss: 1.1492 - val_loss: 8.8672 - val_petal_width_output_loss: 2.9040 - val_petal_length_output_loss: 4.0960 - val_species_output_loss: 1.8672\n",
      "Epoch 58/100\n",
      "135/135 [==============================] - 0s 355us/sample - loss: 4.8877 - petal_width_output_loss: 2.4440 - petal_length_output_loss: 1.5090 - species_output_loss: 1.1788 - val_loss: 8.4007 - val_petal_width_output_loss: 2.6976 - val_petal_length_output_loss: 3.8731 - val_species_output_loss: 1.8300\n",
      "Epoch 59/100\n",
      "135/135 [==============================] - 0s 349us/sample - loss: 4.7659 - petal_width_output_loss: 2.3666 - petal_length_output_loss: 1.2661 - species_output_loss: 1.1288 - val_loss: 7.9278 - val_petal_width_output_loss: 2.4957 - val_petal_length_output_loss: 3.6534 - val_species_output_loss: 1.7787\n",
      "Epoch 60/100\n",
      "135/135 [==============================] - 0s 330us/sample - loss: 4.6352 - petal_width_output_loss: 2.3379 - petal_length_output_loss: 1.2019 - species_output_loss: 1.1432 - val_loss: 7.5352 - val_petal_width_output_loss: 2.3519 - val_petal_length_output_loss: 3.4485 - val_species_output_loss: 1.7348\n",
      "Epoch 61/100\n",
      "135/135 [==============================] - 0s 377us/sample - loss: 4.5266 - petal_width_output_loss: 2.2908 - petal_length_output_loss: 1.0852 - species_output_loss: 1.1339 - val_loss: 7.1790 - val_petal_width_output_loss: 2.2319 - val_petal_length_output_loss: 3.2563 - val_species_output_loss: 1.6908\n",
      "Epoch 62/100\n",
      "135/135 [==============================] - 0s 384us/sample - loss: 4.4362 - petal_width_output_loss: 2.3853 - petal_length_output_loss: 1.0747 - species_output_loss: 1.1325 - val_loss: 6.8623 - val_petal_width_output_loss: 2.1392 - val_petal_length_output_loss: 3.0778 - val_species_output_loss: 1.6453\n",
      "Epoch 63/100\n",
      "135/135 [==============================] - 0s 377us/sample - loss: 4.3500 - petal_width_output_loss: 2.2684 - petal_length_output_loss: 0.9489 - species_output_loss: 1.1221 - val_loss: 6.5829 - val_petal_width_output_loss: 2.0722 - val_petal_length_output_loss: 2.9119 - val_species_output_loss: 1.5988\n",
      "Epoch 64/100\n",
      "135/135 [==============================] - 0s 295us/sample - loss: 4.2749 - petal_width_output_loss: 2.1358 - petal_length_output_loss: 0.9391 - species_output_loss: 1.1092 - val_loss: 6.3272 - val_petal_width_output_loss: 2.0091 - val_petal_length_output_loss: 2.7574 - val_species_output_loss: 1.5607\n",
      "Epoch 65/100\n",
      "135/135 [==============================] - 0s 355us/sample - loss: 4.2073 - petal_width_output_loss: 2.2051 - petal_length_output_loss: 0.9758 - species_output_loss: 1.1409 - val_loss: 6.0869 - val_petal_width_output_loss: 1.9482 - val_petal_length_output_loss: 2.6110 - val_species_output_loss: 1.5277\n",
      "Epoch 66/100\n",
      "135/135 [==============================] - 0s 310us/sample - loss: 4.1491 - petal_width_output_loss: 2.0775 - petal_length_output_loss: 0.7440 - species_output_loss: 1.1033 - val_loss: 5.8371 - val_petal_width_output_loss: 1.8754 - val_petal_length_output_loss: 2.4694 - val_species_output_loss: 1.4923\n",
      "Epoch 67/100\n",
      "135/135 [==============================] - 0s 296us/sample - loss: 4.0961 - petal_width_output_loss: 2.2075 - petal_length_output_loss: 0.6985 - species_output_loss: 1.0942 - val_loss: 5.6508 - val_petal_width_output_loss: 1.8391 - val_petal_length_output_loss: 2.3451 - val_species_output_loss: 1.4666\n",
      "Epoch 68/100\n",
      "135/135 [==============================] - 0s 306us/sample - loss: 4.0509 - petal_width_output_loss: 2.1327 - petal_length_output_loss: 0.7303 - species_output_loss: 1.1127 - val_loss: 5.5219 - val_petal_width_output_loss: 1.8356 - val_petal_length_output_loss: 2.2356 - val_species_output_loss: 1.4507\n",
      "Epoch 69/100\n",
      "135/135 [==============================] - 0s 288us/sample - loss: 4.0096 - petal_width_output_loss: 2.3469 - petal_length_output_loss: 0.7390 - species_output_loss: 1.1117 - val_loss: 5.3876 - val_petal_width_output_loss: 1.8249 - val_petal_length_output_loss: 2.1319 - val_species_output_loss: 1.4308\n",
      "Epoch 70/100\n",
      "135/135 [==============================] - 0s 331us/sample - loss: 3.9738 - petal_width_output_loss: 2.0759 - petal_length_output_loss: 0.6807 - species_output_loss: 1.1065 - val_loss: 5.2557 - val_petal_width_output_loss: 1.8139 - val_petal_length_output_loss: 2.0339 - val_species_output_loss: 1.4079\n",
      "Epoch 71/100\n",
      "135/135 [==============================] - 0s 350us/sample - loss: 3.9361 - petal_width_output_loss: 2.1395 - petal_length_output_loss: 0.6608 - species_output_loss: 1.1201 - val_loss: 5.1252 - val_petal_width_output_loss: 1.7909 - val_petal_length_output_loss: 1.9413 - val_species_output_loss: 1.3930\n",
      "Epoch 72/100\n",
      "135/135 [==============================] - 0s 325us/sample - loss: 3.9073 - petal_width_output_loss: 2.2958 - petal_length_output_loss: 0.5779 - species_output_loss: 1.1125 - val_loss: 4.9800 - val_petal_width_output_loss: 1.7569 - val_petal_length_output_loss: 1.8523 - val_species_output_loss: 1.3708\n",
      "Epoch 73/100\n",
      "135/135 [==============================] - 0s 300us/sample - loss: 3.8775 - petal_width_output_loss: 2.0166 - petal_length_output_loss: 0.5666 - species_output_loss: 1.0987 - val_loss: 4.8980 - val_petal_width_output_loss: 1.7650 - val_petal_length_output_loss: 1.7788 - val_species_output_loss: 1.3543\n",
      "Epoch 74/100\n",
      "135/135 [==============================] - 0s 340us/sample - loss: 3.8534 - petal_width_output_loss: 2.2513 - petal_length_output_loss: 0.5418 - species_output_loss: 1.1102 - val_loss: 4.8039 - val_petal_width_output_loss: 1.7514 - val_petal_length_output_loss: 1.7066 - val_species_output_loss: 1.3458\n",
      "Epoch 75/100\n",
      "135/135 [==============================] - 0s 421us/sample - loss: 3.8308 - petal_width_output_loss: 2.1797 - petal_length_output_loss: 0.5268 - species_output_loss: 1.1092 - val_loss: 4.7210 - val_petal_width_output_loss: 1.7461 - val_petal_length_output_loss: 1.6421 - val_species_output_loss: 1.3328\n",
      "Epoch 76/100\n",
      "135/135 [==============================] - 0s 266us/sample - loss: 3.8088 - petal_width_output_loss: 2.1550 - petal_length_output_loss: 0.5604 - species_output_loss: 1.1089 - val_loss: 4.6581 - val_petal_width_output_loss: 1.7507 - val_petal_length_output_loss: 1.5841 - val_species_output_loss: 1.3233\n",
      "Epoch 77/100\n",
      "135/135 [==============================] - 0s 273us/sample - loss: 3.7901 - petal_width_output_loss: 1.9829 - petal_length_output_loss: 0.4938 - species_output_loss: 1.0961 - val_loss: 4.6002 - val_petal_width_output_loss: 1.7562 - val_petal_length_output_loss: 1.5303 - val_species_output_loss: 1.3137\n"
     ]
    },
    {
     "name": "stdout",
     "output_type": "stream",
     "text": [
      "Epoch 78/100\n",
      "135/135 [==============================] - 0s 318us/sample - loss: 3.7747 - petal_width_output_loss: 1.9635 - petal_length_output_loss: 0.4625 - species_output_loss: 1.0882 - val_loss: 4.5277 - val_petal_width_output_loss: 1.7383 - val_petal_length_output_loss: 1.4758 - val_species_output_loss: 1.3136\n",
      "Epoch 79/100\n",
      "135/135 [==============================] - 0s 303us/sample - loss: 3.7588 - petal_width_output_loss: 2.2709 - petal_length_output_loss: 0.4927 - species_output_loss: 1.1116 - val_loss: 4.4846 - val_petal_width_output_loss: 1.7349 - val_petal_length_output_loss: 1.4283 - val_species_output_loss: 1.3215\n",
      "Epoch 80/100\n",
      "135/135 [==============================] - 0s 331us/sample - loss: 3.7420 - petal_width_output_loss: 2.2757 - petal_length_output_loss: 0.4653 - species_output_loss: 1.1009 - val_loss: 4.4684 - val_petal_width_output_loss: 1.7582 - val_petal_length_output_loss: 1.3903 - val_species_output_loss: 1.3199\n",
      "Epoch 81/100\n",
      "135/135 [==============================] - 0s 273us/sample - loss: 3.7283 - petal_width_output_loss: 2.2217 - petal_length_output_loss: 0.4638 - species_output_loss: 1.0969 - val_loss: 4.5317 - val_petal_width_output_loss: 1.8382 - val_petal_length_output_loss: 1.3669 - val_species_output_loss: 1.3267\n",
      "Epoch 82/100\n",
      "135/135 [==============================] - 0s 347us/sample - loss: 3.7172 - petal_width_output_loss: 1.9779 - petal_length_output_loss: 0.4770 - species_output_loss: 1.1037 - val_loss: 4.5853 - val_petal_width_output_loss: 1.9069 - val_petal_length_output_loss: 1.3442 - val_species_output_loss: 1.3342\n",
      "Epoch 83/100\n",
      "135/135 [==============================] - 0s 418us/sample - loss: 3.7056 - petal_width_output_loss: 1.9914 - petal_length_output_loss: 0.4736 - species_output_loss: 1.1040 - val_loss: 4.5558 - val_petal_width_output_loss: 1.9083 - val_petal_length_output_loss: 1.3104 - val_species_output_loss: 1.3371\n",
      "Epoch 84/100\n",
      "135/135 [==============================] - 0s 344us/sample - loss: 3.6940 - petal_width_output_loss: 2.0578 - petal_length_output_loss: 0.4431 - species_output_loss: 1.0992 - val_loss: 4.4839 - val_petal_width_output_loss: 1.8751 - val_petal_length_output_loss: 1.2723 - val_species_output_loss: 1.3366\n",
      "Epoch 85/100\n",
      "135/135 [==============================] - 0s 282us/sample - loss: 3.6821 - petal_width_output_loss: 2.1026 - petal_length_output_loss: 0.4747 - species_output_loss: 1.1130 - val_loss: 4.4088 - val_petal_width_output_loss: 1.8355 - val_petal_length_output_loss: 1.2358 - val_species_output_loss: 1.3375\n",
      "Epoch 86/100\n",
      "135/135 [==============================] - 0s 256us/sample - loss: 3.6710 - petal_width_output_loss: 2.0761 - petal_length_output_loss: 0.4166 - species_output_loss: 1.1031 - val_loss: 4.3484 - val_petal_width_output_loss: 1.8112 - val_petal_length_output_loss: 1.2044 - val_species_output_loss: 1.3328\n",
      "Epoch 87/100\n",
      "135/135 [==============================] - 0s 340us/sample - loss: 3.6609 - petal_width_output_loss: 2.2288 - petal_length_output_loss: 0.4394 - species_output_loss: 1.1099 - val_loss: 4.3164 - val_petal_width_output_loss: 1.8077 - val_petal_length_output_loss: 1.1792 - val_species_output_loss: 1.3295\n",
      "Epoch 88/100\n",
      "135/135 [==============================] - 0s 288us/sample - loss: 3.6511 - petal_width_output_loss: 2.3182 - petal_length_output_loss: 0.4448 - species_output_loss: 1.1044 - val_loss: 4.3009 - val_petal_width_output_loss: 1.8173 - val_petal_length_output_loss: 1.1591 - val_species_output_loss: 1.3244\n",
      "Epoch 89/100\n",
      "135/135 [==============================] - 0s 332us/sample - loss: 3.6390 - petal_width_output_loss: 2.1861 - petal_length_output_loss: 0.4383 - species_output_loss: 1.1041 - val_loss: 4.3502 - val_petal_width_output_loss: 1.8765 - val_petal_length_output_loss: 1.1507 - val_species_output_loss: 1.3230\n",
      "Epoch 90/100\n",
      "135/135 [==============================] - 0s 281us/sample - loss: 3.6369 - petal_width_output_loss: 1.9070 - petal_length_output_loss: 0.4066 - species_output_loss: 1.1116 - val_loss: 4.4101 - val_petal_width_output_loss: 1.9405 - val_petal_length_output_loss: 1.1446 - val_species_output_loss: 1.3250\n",
      "Epoch 91/100\n",
      "135/135 [==============================] - 0s 328us/sample - loss: 3.6266 - petal_width_output_loss: 2.0580 - petal_length_output_loss: 0.4416 - species_output_loss: 1.1190 - val_loss: 4.3559 - val_petal_width_output_loss: 1.9151 - val_petal_length_output_loss: 1.1226 - val_species_output_loss: 1.3181\n",
      "Epoch 92/100\n",
      "135/135 [==============================] - 0s 318us/sample - loss: 3.6157 - petal_width_output_loss: 2.0569 - petal_length_output_loss: 0.4287 - species_output_loss: 1.1061 - val_loss: 4.2675 - val_petal_width_output_loss: 1.8672 - val_petal_length_output_loss: 1.0967 - val_species_output_loss: 1.3037\n",
      "Epoch 93/100\n",
      "135/135 [==============================] - 0s 298us/sample - loss: 3.6065 - petal_width_output_loss: 1.9440 - petal_length_output_loss: 0.4319 - species_output_loss: 1.1047 - val_loss: 4.1872 - val_petal_width_output_loss: 1.8186 - val_petal_length_output_loss: 1.0711 - val_species_output_loss: 1.2975\n",
      "Epoch 94/100\n",
      "135/135 [==============================] - 0s 332us/sample - loss: 3.6004 - petal_width_output_loss: 2.1527 - petal_length_output_loss: 0.4515 - species_output_loss: 1.1114 - val_loss: 4.0861 - val_petal_width_output_loss: 1.7526 - val_petal_length_output_loss: 1.0420 - val_species_output_loss: 1.2914\n",
      "Epoch 95/100\n",
      "135/135 [==============================] - 0s 258us/sample - loss: 3.5901 - petal_width_output_loss: 2.0143 - petal_length_output_loss: 0.4594 - species_output_loss: 1.1124 - val_loss: 4.0210 - val_petal_width_output_loss: 1.7179 - val_petal_length_output_loss: 1.0200 - val_species_output_loss: 1.2831\n",
      "Epoch 96/100\n",
      "135/135 [==============================] - 0s 288us/sample - loss: 3.5815 - petal_width_output_loss: 1.9814 - petal_length_output_loss: 0.4218 - species_output_loss: 1.1033 - val_loss: 3.9854 - val_petal_width_output_loss: 1.7076 - val_petal_length_output_loss: 1.0028 - val_species_output_loss: 1.2751\n",
      "Epoch 97/100\n",
      "135/135 [==============================] - 0s 428us/sample - loss: 3.5744 - petal_width_output_loss: 1.9832 - petal_length_output_loss: 0.4385 - species_output_loss: 1.1147 - val_loss: 3.9632 - val_petal_width_output_loss: 1.7049 - val_petal_length_output_loss: 0.9883 - val_species_output_loss: 1.2700\n",
      "Epoch 98/100\n",
      "135/135 [==============================] - 0s 340us/sample - loss: 3.5662 - petal_width_output_loss: 1.9493 - petal_length_output_loss: 0.4127 - species_output_loss: 1.1011 - val_loss: 3.9485 - val_petal_width_output_loss: 1.7060 - val_petal_length_output_loss: 0.9760 - val_species_output_loss: 1.2665\n",
      "Epoch 99/100\n",
      "135/135 [==============================] - 0s 303us/sample - loss: 3.5588 - petal_width_output_loss: 1.8505 - petal_length_output_loss: 0.4173 - species_output_loss: 1.0970 - val_loss: 3.9271 - val_petal_width_output_loss: 1.6990 - val_petal_length_output_loss: 0.9636 - val_species_output_loss: 1.2645\n",
      "Epoch 100/100\n",
      "135/135 [==============================] - 0s 289us/sample - loss: 3.5518 - petal_width_output_loss: 2.1057 - petal_length_output_loss: 0.4372 - species_output_loss: 1.1068 - val_loss: 3.9343 - val_petal_width_output_loss: 1.7064 - val_petal_length_output_loss: 0.9553 - val_species_output_loss: 1.2726\n"
     ]
    }
   ],
   "source": [
    "history = model.fit(X, \n",
    "                    [y1, y2, y3],\n",
    "                    epochs = 100,\n",
    "                    validation_split = 0.1)"
   ]
  },
  {
   "cell_type": "code",
   "execution_count": 32,
   "metadata": {
    "scrolled": true
   },
   "outputs": [
    {
     "data": {
      "image/png": "[encoded data removed]",
      "text/plain": [
       "<Figure size 720x504 with 1 Axes>"
      ]
     },
     "metadata": {
      "needs_background": "light"
     },
     "output_type": "display_data"
    }
   ],
   "source": [
    "import matplotlib.pyplot as plt\n",
    "plt.figure(figsize = (10, 7))\n",
    "\n",
    "plt.plot(history.history['loss'], label = 'train loss')\n",
    "plt.plot(history.history['val_loss'], label = 'val loss')\n",
    "\n",
    "plt.legend()\n",
    "plt.show()"
   ]
  },
  {
   "cell_type": "code",
   "execution_count": 33,
   "metadata": {},
   "outputs": [
    {
     "name": "stdout",
     "output_type": "stream",
     "text": [
      "150/150 [==============================] - 0s 219us/sample - loss: 3.5849 - petal_width_output_loss: 1.9781 - petal_length_output_loss: 0.4957 - species_output_loss: 1.1342\n"
     ]
    },
    {
     "data": {
      "text/plain": [
       "[3.584922161102295, 1.978129, 0.49566594, 1.1341782]"
      ]
     },
     "execution_count": 33,
     "metadata": {},
     "output_type": "execute_result"
    }
   ],
   "source": [
    "# [총 loss, output1 loss, output2 loss, output3 loss]\n",
    "model.evaluate(X, [y1, y2, y3])"
   ]
  },
  {
   "cell_type": "code",
   "execution_count": 36,
   "metadata": {},
   "outputs": [
    {
     "data": {
      "text/plain": [
       "array([[5.1, 3.5],\n",
       "       [4.9, 3. ]])"
      ]
     },
     "execution_count": 36,
     "metadata": {},
     "output_type": "execute_result"
    }
   ],
   "source": [
    "X[:2]"
   ]
  },
  {
   "cell_type": "code",
   "execution_count": 35,
   "metadata": {},
   "outputs": [
    {
     "data": {
      "text/plain": [
       "[array([[3.3693051],\n",
       "        [3.2185864]], dtype=float32),\n",
       " array([[1.021378 ],\n",
       "        [0.9873012]], dtype=float32),\n",
       " array([[0.3224151 , 0.38096467, 0.29662025],\n",
       "        [0.31925625, 0.38064748, 0.30009624]], dtype=float32)]"
      ]
     },
     "execution_count": 35,
     "metadata": {},
     "output_type": "execute_result"
    }
   ],
   "source": [
    "# 추론\n",
    "model.predict(X[:2])"
   ]
  },
  {
   "cell_type": "code",
   "execution_count": 37,
   "metadata": {},
   "outputs": [
    {
     "data": {
      "text/plain": [
       "array([1.4, 1.4])"
      ]
     },
     "execution_count": 37,
     "metadata": {},
     "output_type": "execute_result"
    }
   ],
   "source": [
    "y1[:2]"
   ]
  },
  {
   "cell_type": "code",
   "execution_count": 38,
   "metadata": {},
   "outputs": [
    {
     "data": {
      "text/plain": [
       "array([0.2, 0.2])"
      ]
     },
     "execution_count": 38,
     "metadata": {},
     "output_type": "execute_result"
    }
   ],
   "source": [
    "y2[:2]"
   ]
  },
  {
   "cell_type": "code",
   "execution_count": 39,
   "metadata": {},
   "outputs": [
    {
     "data": {
      "text/plain": [
       "array([0, 0])"
      ]
     },
     "execution_count": 39,
     "metadata": {},
     "output_type": "execute_result"
    }
   ],
   "source": [
    "y3[:2]"
   ]
  },
  {
   "cell_type": "markdown",
   "metadata": {},
   "source": [
    "## 다중 입력 모델\n",
    "- 가정 \n",
    "    - IRIS 꽃 데이터 + 꽃의 사진을 입력해서 꽃의 종류를 예측\n",
    "- X: 꽃 데이터, 꽃 사진\n",
    "- y: 꽃 종류"
   ]
  },
  {
   "cell_type": "code",
   "execution_count": 41,
   "metadata": {},
   "outputs": [],
   "source": [
    "iris_info_tensor = layers.Input((4, ))\n",
    "x1 = layers.Dense(32, activation = 'relu')(iris_info_tensor)\n",
    "x1 = layers.Dense(16, activation = 'relu')(x1)\n",
    "\n",
    "iris_img_tensor = layers.Input((16, 16, 1))\n",
    "x2 = layers.Conv2D(filters = 32, kernel_size = 3, padding = 'same', activation = 'relu')(iris_img_tensor)\n",
    "x2 = layers.Conv2D(filters = 32, kernel_size = 3, padding = 'same', activation = 'relu')(x2)\n",
    "x2 = layers.MaxPool2D(padding = 'same')(x2)\n",
    "\n",
    "x3 = layers.Conv2D(filters = 64, kernel_size = 3, padding = 'same', activation = 'relu')(x2)\n",
    "x3 = layers.Conv2D(filters = 64, kernel_size = 3, padding = 'same', activation = 'relu')(x3)\n",
    "x3 = layers.MaxPool2D(padding = 'same')(x3)\n",
    "x3 = layers.GlobalAveragePooling2D()(x3)\n",
    "\n",
    "# 합치기\n",
    "x4 = layers.concatenate([x1, x3])\n",
    "x5 = layers.Dropout(0.2)(x4)\n",
    "output_tensor = layers.Dense(units = 3, activation = 'softmax')(x5)\n",
    "\n",
    "model = models.Model([iris_info_tensor, iris_img_tensor], output_tensor)"
   ]
  },
  {
   "cell_type": "code",
   "execution_count": 42,
   "metadata": {},
   "outputs": [
    {
     "name": "stdout",
     "output_type": "stream",
     "text": [
      "Model: \"model_8\"\n",
      "__________________________________________________________________________________________________\n",
      "Layer (type)                    Output Shape         Param #     Connected to                     \n",
      "==================================================================================================\n",
      "input_17 (InputLayer)           [(None, 16, 16, 1)]  0                                            \n",
      "__________________________________________________________________________________________________\n",
      "conv2d_17 (Conv2D)              (None, 16, 16, 32)   320         input_17[0][0]                   \n",
      "__________________________________________________________________________________________________\n",
      "conv2d_18 (Conv2D)              (None, 16, 16, 32)   9248        conv2d_17[0][0]                  \n",
      "__________________________________________________________________________________________________\n",
      "max_pooling2d_6 (MaxPooling2D)  (None, 8, 8, 32)     0           conv2d_18[0][0]                  \n",
      "__________________________________________________________________________________________________\n",
      "conv2d_19 (Conv2D)              (None, 8, 8, 64)     18496       max_pooling2d_6[0][0]            \n",
      "__________________________________________________________________________________________________\n",
      "input_16 (InputLayer)           [(None, 4)]          0                                            \n",
      "__________________________________________________________________________________________________\n",
      "conv2d_20 (Conv2D)              (None, 8, 8, 64)     36928       conv2d_19[0][0]                  \n",
      "__________________________________________________________________________________________________\n",
      "dense_32 (Dense)                (None, 32)           160         input_16[0][0]                   \n",
      "__________________________________________________________________________________________________\n",
      "max_pooling2d_7 (MaxPooling2D)  (None, 4, 4, 64)     0           conv2d_20[0][0]                  \n",
      "__________________________________________________________________________________________________\n",
      "dense_33 (Dense)                (None, 16)           528         dense_32[0][0]                   \n",
      "__________________________________________________________________________________________________\n",
      "global_average_pooling2d_1 (Glo (None, 64)           0           max_pooling2d_7[0][0]            \n",
      "__________________________________________________________________________________________________\n",
      "concatenate_1 (Concatenate)     (None, 80)           0           dense_33[0][0]                   \n",
      "                                                                 global_average_pooling2d_1[0][0] \n",
      "__________________________________________________________________________________________________\n",
      "dropout_1 (Dropout)             (None, 80)           0           concatenate_1[0][0]              \n",
      "__________________________________________________________________________________________________\n",
      "dense_34 (Dense)                (None, 3)            243         dropout_1[0][0]                  \n",
      "==================================================================================================\n",
      "Total params: 65,923\n",
      "Trainable params: 65,923\n",
      "Non-trainable params: 0\n",
      "__________________________________________________________________________________________________\n"
     ]
    }
   ],
   "source": [
    "model.summary()"
   ]
  },
  {
   "cell_type": "code",
   "execution_count": 44,
   "metadata": {},
   "outputs": [
    {
     "data": {
      "image/png": "[encoded data removed]",
      "text/plain": [
       "<IPython.core.display.Image object>"
      ]
     },
     "execution_count": 44,
     "metadata": {},
     "output_type": "execute_result"
    }
   ],
   "source": [
    "keras.utils.plot_model(model)"
   ]
  },
  {
   "cell_type": "code",
   "execution_count": 46,
   "metadata": {},
   "outputs": [],
   "source": [
    "model.compile(optimizer = 'adam',\n",
    "               loss = 'sparse_categorical_crossentropy',\n",
    "               metrics = ['accuracy'])"
   ]
  }
 ],
 "metadata": {
  "kernelspec": {
   "display_name": "Python 3",
   "language": "python",
   "name": "python3"
  },
  "language_info": {
   "codemirror_mode": {
    "name": "ipython",
    "version": 3
   },
   "file_extension": ".py",
   "mimetype": "text/x-python",
   "name": "python",
   "nbconvert_exporter": "python",
   "pygments_lexer": "ipython3",
   "version": "3.7.10"
  },
  "toc": {
   "base_numbering": 1,
   "nav_menu": {},
   "number_sections": true,
   "sideBar": true,
   "skip_h1_title": false,
   "title_cell": "Table of Contents",
   "title_sidebar": "Contents",
   "toc_cell": false,
   "toc_position": {},
   "toc_section_display": true,
   "toc_window_display": false
  },
  "varInspector": {
   "cols": {
    "lenName": 16,
    "lenType": 16,
    "lenVar": 40
   },
   "kernels_config": {
    "python": {
     "delete_cmd_postfix": "",
     "delete_cmd_prefix": "del ",
     "library": "var_list.py",
     "varRefreshCmd": "print(var_dic_list())"
    },
    "r": {
     "delete_cmd_postfix": ") ",
     "delete_cmd_prefix": "rm(",
     "library": "var_list.r",
     "varRefreshCmd": "cat(var_dic_list()) "
    }
   },
   "types_to_exclude": [
    "module",
    "function",
    "builtin_function_or_method",
    "instance",
    "_Feature"
   ],
   "window_display": false
  }
 },
 "nbformat": 4,
 "nbformat_minor": 4
}
