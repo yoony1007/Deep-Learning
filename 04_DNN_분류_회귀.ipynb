{
 "cells": [
  {
   "cell_type": "markdown",
   "metadata": {},
   "source": [
    "# 데이터셋 API\n",
    "- 데이터 입력 파이프라인을 위한 패키지\n",
    "- tf.data 패키지에서 제공\n",
    "- tf.data.Dataset 추상클래스에서 상속된 여러가지 클래스 객체를 사용 또는 만들어 사용\n",
    "\n",
    "## 데이터 입력 파이프라인이란\n",
    "**모델에 공급**되는 데이터에 대한 전처리 작업, 공급 담당    \n",
    "- 이미지 데이터의 경우\n",
    "    - 분산 파일시스템으로부터 이미지 모으는 작업 \n",
    "    - 이미지에 노이즈를 주거나 변형하는 작업(이미지 증식)\n",
    "    - 배치 학습을 위해 무작위로 데이터 선택해 배치데이터 만드는 작업\n",
    "- 텍스트 데이터 경우\n",
    "    - 원문을 토큰화하는 작업\n",
    "    - 임베딩하는 작업\n",
    "    - 길이가 다른 데이터를 패딩하여 합치는 작업 \n",
    "\n",
    "\n",
    "## 데이터셋 API 사용 3단계\n",
    "1. 데이터셋 생성(데이터 소스 만드는 과정)\n",
    "    - from_tensor_slices(), from_generator() 클래스 메소드, tf.data.TFRecordDataset 클래스를 사용해 메모리나 파일에 있는 데이터를 데이터소스로 만듬\n",
    "        - 원본 데이터(raw data)로 데이터셋 객체 생성 -> 모델에 전달\n",
    "        - 원본 데이터가 어떻게 저장되어있는지에 따라 읽어들이는 방법 다름\n",
    "        - from_tensor_slices(): 메모리로 저장되어 있음\n",
    "        - from_generator(): 파일로 저장되어 있음\n",
    "        - tf.data.TFRecordDataset: TFRecord 파일로 저장되어 있음\n",
    "    - from_tensor_slices(): 리스트 넘파이배열, 텐서플로 자료형에서 데이터 생성 -> 데이터가 메모리에 저장되어 있는 경우 \n",
    "2. 데이터셋 변형: map(), filter(), batch() 등 메소드를 이용해 데이터 소스 변형\n",
    "    - map(): 데이터 변경\n",
    "    - filter(): 필요한 데이터만 골라냄\n",
    "    - batch(): batch 설정\n",
    "3. for 반복문에서 iterate를 통해 데이터셋 사용\n",
    "\n",
    "## Dataset의 주요 메소드\n",
    "- map(함수) : dataset의 각 원소들을 함수로 처리\n",
    "- shuffle(크기): dataset 원소들의 순서 섞음. 크기는 섞는 공간의 크기로  **데이터보다 크거나 같으면** 완전셔플, **적으면 일부만 가져와서 섞어** 완전셔플 안됨=>데이터가 과도하게 많으면 적게 주기도 함)\n",
    "- batch(size) : 반복시 제공할 데이터 수. 지정한 batch size만큼 data 꺼내줌"
   ]
  },
  {
   "cell_type": "code",
   "execution_count": 1,
   "metadata": {},
   "outputs": [],
   "source": [
    "import tensorflow as tf\n",
    "import numpy as np"
   ]
  },
  {
   "cell_type": "code",
   "execution_count": 2,
   "metadata": {},
   "outputs": [],
   "source": [
    "# 0 ~ 8: 9개의 데이터 -> 우리가 학습해야하는 데이터\n",
    "arr = np.arange(9)"
   ]
  },
  {
   "cell_type": "code",
   "execution_count": 28,
   "metadata": {},
   "outputs": [
    {
     "data": {
      "text/plain": [
       "tensorflow.python.data.ops.dataset_ops.TensorSliceDataset"
      ]
     },
     "execution_count": 28,
     "metadata": {},
     "output_type": "execute_result"
    }
   ],
   "source": [
    "# 메모리에 ndarray로 저장된 데이터를 이용해 Dataset 객체 생성\n",
    "dataset = tf.data.Dataset.from_tensor_slices(arr)\n",
    "type(dataset)"
   ]
  },
  {
   "cell_type": "code",
   "execution_count": 29,
   "metadata": {},
   "outputs": [
    {
     "data": {
      "text/plain": [
       "tensorflow.python.data.ops.dataset_ops.MapDataset"
      ]
     },
     "execution_count": 29,
     "metadata": {},
     "output_type": "execute_result"
    }
   ],
   "source": [
    "# 각각 원소를 변환하는 작업을 Dataset에 추가 - Dataset.map(변환함수)\n",
    "dataset = dataset.map(lambda x:x**2)\n",
    "type(dataset)"
   ]
  },
  {
   "cell_type": "code",
   "execution_count": 8,
   "metadata": {},
   "outputs": [],
   "source": [
    "# 2의 배수만 걸러내기\n",
    "# def func(x):\n",
    "#     return x%2 == 0\n",
    "# dataset = dataset.filter(lambda x:x%2 == 0)"
   ]
  },
  {
   "cell_type": "code",
   "execution_count": 30,
   "metadata": {},
   "outputs": [],
   "source": [
    "# 값들을 섞어주는 작업\n",
    "dataset = dataset.shuffle(9)\n",
    "\n",
    "# shuffle(3) -> 데이터 3개만 섞을거야\n",
    "# 데이터 양이 많을 때, 메모리 양에 맞추어 일부만이라도 섞게 하는 것\n",
    "# dataset = dataset.shuffle(3)"
   ]
  },
  {
   "cell_type": "code",
   "execution_count": 26,
   "metadata": {},
   "outputs": [],
   "source": [
    "# 한번에 지정한 개수(3)만큼 제공\n",
    "dataset = dataset.batch(3)"
   ]
  },
  {
   "cell_type": "code",
   "execution_count": 27,
   "metadata": {},
   "outputs": [
    {
     "name": "stdout",
     "output_type": "stream",
     "text": [
      "tf.Tensor([49 25  0], shape=(3,), dtype=int32)\n",
      "tf.Tensor([36  9 16], shape=(3,), dtype=int32)\n",
      "tf.Tensor([ 1  4 64], shape=(3,), dtype=int32)\n"
     ]
    }
   ],
   "source": [
    "# batch(3)까지 했을 때 결과\n",
    "for a in dataset:\n",
    "    print(a)"
   ]
  },
  {
   "cell_type": "code",
   "execution_count": 31,
   "metadata": {},
   "outputs": [],
   "source": [
    "dataset = dataset.batch(4)"
   ]
  },
  {
   "cell_type": "code",
   "execution_count": 32,
   "metadata": {},
   "outputs": [
    {
     "name": "stdout",
     "output_type": "stream",
     "text": [
      "tf.Tensor([ 1  4 36 49], shape=(4,), dtype=int32)\n",
      "tf.Tensor([64  9 16 25], shape=(4,), dtype=int32)\n",
      "tf.Tensor([0], shape=(1,), dtype=int32)\n"
     ]
    }
   ],
   "source": [
    "# batch(4)까지 했을 때 결과\n",
    "for a in dataset:\n",
    "    print(a)"
   ]
  },
  {
   "cell_type": "code",
   "execution_count": 22,
   "metadata": {
    "scrolled": true
   },
   "outputs": [
    {
     "name": "stdout",
     "output_type": "stream",
     "text": [
      "tf.Tensor(36, shape=(), dtype=int32)\n",
      "tf.Tensor(9, shape=(), dtype=int32)\n",
      "tf.Tensor(4, shape=(), dtype=int32)\n",
      "tf.Tensor(64, shape=(), dtype=int32)\n",
      "tf.Tensor(16, shape=(), dtype=int32)\n",
      "tf.Tensor(49, shape=(), dtype=int32)\n",
      "tf.Tensor(25, shape=(), dtype=int32)\n",
      "tf.Tensor(1, shape=(), dtype=int32)\n",
      "tf.Tensor(0, shape=(), dtype=int32)\n"
     ]
    }
   ],
   "source": [
    "# Dataset에서 제공되는 값들을 조회\n",
    "# tensorflow 버전의 배열\n",
    "for a in dataset:\n",
    "    print(a)"
   ]
  },
  {
   "cell_type": "code",
   "execution_count": 33,
   "metadata": {},
   "outputs": [
    {
     "data": {
      "text/plain": [
       "((10,), (10,))"
      ]
     },
     "execution_count": 33,
     "metadata": {},
     "output_type": "execute_result"
    }
   ],
   "source": [
    "# data feeding\n",
    "= np.arange(10)\n",
    "y = np.arange(10, 20)\n",
    "x.shape, y.shape"
   ]
  },
  {
   "cell_type": "code",
   "execution_count": 34,
   "metadata": {},
   "outputs": [],
   "source": [
    "# 데이터 튜플로 묶어서 읽을 때, 두 배열은 묶여서 하나로 관리됨\n",
    "# 두 데이터 원소 개수가 같아야 함\n",
    "ds = tf.data.Dataset.from_tensor_slices((x, y))"
   ]
  },
  {
   "cell_type": "code",
   "execution_count": 35,
   "metadata": {},
   "outputs": [
    {
     "name": "stdout",
     "output_type": "stream",
     "text": [
      "(<tf.Tensor: shape=(), dtype=int32, numpy=0>, <tf.Tensor: shape=(), dtype=int32, numpy=10>)\n"
     ]
    }
   ],
   "source": [
    "# 튜플로 반환\n",
    "# tf.Tensor: 넘파이 자료구조 ndarray인 것처럼, 텐서플로우 자료구조가 텐서 \n",
    "for a in ds:\n",
    "    print(a)\n",
    "    break"
   ]
  },
  {
   "cell_type": "code",
   "execution_count": 36,
   "metadata": {},
   "outputs": [
    {
     "name": "stdout",
     "output_type": "stream",
     "text": [
      "(<tf.Tensor: shape=(), dtype=int32, numpy=0>, <tf.Tensor: shape=(), dtype=int32, numpy=10>)\n",
      "(<tf.Tensor: shape=(), dtype=int32, numpy=1>, <tf.Tensor: shape=(), dtype=int32, numpy=11>)\n",
      "(<tf.Tensor: shape=(), dtype=int32, numpy=2>, <tf.Tensor: shape=(), dtype=int32, numpy=12>)\n",
      "(<tf.Tensor: shape=(), dtype=int32, numpy=3>, <tf.Tensor: shape=(), dtype=int32, numpy=13>)\n",
      "(<tf.Tensor: shape=(), dtype=int32, numpy=4>, <tf.Tensor: shape=(), dtype=int32, numpy=14>)\n",
      "(<tf.Tensor: shape=(), dtype=int32, numpy=5>, <tf.Tensor: shape=(), dtype=int32, numpy=15>)\n",
      "(<tf.Tensor: shape=(), dtype=int32, numpy=6>, <tf.Tensor: shape=(), dtype=int32, numpy=16>)\n",
      "(<tf.Tensor: shape=(), dtype=int32, numpy=7>, <tf.Tensor: shape=(), dtype=int32, numpy=17>)\n",
      "(<tf.Tensor: shape=(), dtype=int32, numpy=8>, <tf.Tensor: shape=(), dtype=int32, numpy=18>)\n",
      "(<tf.Tensor: shape=(), dtype=int32, numpy=9>, <tf.Tensor: shape=(), dtype=int32, numpy=19>)\n"
     ]
    }
   ],
   "source": [
    "# 파이썬에서 zip함수 쓴 것과 동일한 결과\n",
    "for a in ds:\n",
    "    print(a)"
   ]
  },
  {
   "cell_type": "code",
   "execution_count": 37,
   "metadata": {},
   "outputs": [],
   "source": [
    "# x: 2제곱, y: 3제곱\n",
    "ds2 = ds.map(lambda x, y : (x**2, y**3))\n",
    "\n",
    "# def map_func(x, y): dataset에 2개의 배열 넣었을 경우, 변수 2개로 각각 받음\n",
    "#     return x**2, y**3"
   ]
  },
  {
   "cell_type": "code",
   "execution_count": null,
   "metadata": {},
   "outputs": [],
   "source": [
    "# y값 3제곱 하지 않을 때\n",
    "# ds2 = ds.map(lambda x, y : (x**2, y))"
   ]
  },
  {
   "cell_type": "code",
   "execution_count": 38,
   "metadata": {
    "collapsed": true
   },
   "outputs": [
    {
     "name": "stdout",
     "output_type": "stream",
     "text": [
      "(<tf.Tensor: shape=(), dtype=int32, numpy=0>, <tf.Tensor: shape=(), dtype=int32, numpy=1000>)\n",
      "(<tf.Tensor: shape=(), dtype=int32, numpy=1>, <tf.Tensor: shape=(), dtype=int32, numpy=1331>)\n",
      "(<tf.Tensor: shape=(), dtype=int32, numpy=4>, <tf.Tensor: shape=(), dtype=int32, numpy=1728>)\n",
      "(<tf.Tensor: shape=(), dtype=int32, numpy=9>, <tf.Tensor: shape=(), dtype=int32, numpy=2197>)\n",
      "(<tf.Tensor: shape=(), dtype=int32, numpy=16>, <tf.Tensor: shape=(), dtype=int32, numpy=2744>)\n",
      "(<tf.Tensor: shape=(), dtype=int32, numpy=25>, <tf.Tensor: shape=(), dtype=int32, numpy=3375>)\n",
      "(<tf.Tensor: shape=(), dtype=int32, numpy=36>, <tf.Tensor: shape=(), dtype=int32, numpy=4096>)\n",
      "(<tf.Tensor: shape=(), dtype=int32, numpy=49>, <tf.Tensor: shape=(), dtype=int32, numpy=4913>)\n",
      "(<tf.Tensor: shape=(), dtype=int32, numpy=64>, <tf.Tensor: shape=(), dtype=int32, numpy=5832>)\n",
      "(<tf.Tensor: shape=(), dtype=int32, numpy=81>, <tf.Tensor: shape=(), dtype=int32, numpy=6859>)\n"
     ]
    }
   ],
   "source": [
    "for a in ds2:\n",
    "    print(a)"
   ]
  },
  {
   "cell_type": "code",
   "execution_count": 41,
   "metadata": {},
   "outputs": [],
   "source": [
    "# X, y 같은 인덱스끼리 섞임\n",
    "ds3 = ds2.shuffle(10)"
   ]
  },
  {
   "cell_type": "code",
   "execution_count": 42,
   "metadata": {
    "collapsed": true
   },
   "outputs": [
    {
     "name": "stdout",
     "output_type": "stream",
     "text": [
      "(<tf.Tensor: shape=(), dtype=int32, numpy=16>, <tf.Tensor: shape=(), dtype=int32, numpy=2744>)\n",
      "(<tf.Tensor: shape=(), dtype=int32, numpy=25>, <tf.Tensor: shape=(), dtype=int32, numpy=3375>)\n",
      "(<tf.Tensor: shape=(), dtype=int32, numpy=0>, <tf.Tensor: shape=(), dtype=int32, numpy=1000>)\n",
      "(<tf.Tensor: shape=(), dtype=int32, numpy=64>, <tf.Tensor: shape=(), dtype=int32, numpy=5832>)\n",
      "(<tf.Tensor: shape=(), dtype=int32, numpy=36>, <tf.Tensor: shape=(), dtype=int32, numpy=4096>)\n",
      "(<tf.Tensor: shape=(), dtype=int32, numpy=1>, <tf.Tensor: shape=(), dtype=int32, numpy=1331>)\n",
      "(<tf.Tensor: shape=(), dtype=int32, numpy=49>, <tf.Tensor: shape=(), dtype=int32, numpy=4913>)\n",
      "(<tf.Tensor: shape=(), dtype=int32, numpy=4>, <tf.Tensor: shape=(), dtype=int32, numpy=1728>)\n",
      "(<tf.Tensor: shape=(), dtype=int32, numpy=81>, <tf.Tensor: shape=(), dtype=int32, numpy=6859>)\n",
      "(<tf.Tensor: shape=(), dtype=int32, numpy=9>, <tf.Tensor: shape=(), dtype=int32, numpy=2197>)\n"
     ]
    }
   ],
   "source": [
    "# 같은 인덱스끼리 반환됨\n",
    "for a in ds3:\n",
    "    print(a)"
   ]
  },
  {
   "cell_type": "code",
   "execution_count": 43,
   "metadata": {},
   "outputs": [],
   "source": [
    "ds4 = ds2.batch(4)"
   ]
  },
  {
   "cell_type": "code",
   "execution_count": 44,
   "metadata": {
    "collapsed": true
   },
   "outputs": [
    {
     "name": "stdout",
     "output_type": "stream",
     "text": [
      "(<tf.Tensor: shape=(4,), dtype=int32, numpy=array([0, 1, 4, 9])>, <tf.Tensor: shape=(4,), dtype=int32, numpy=array([1000, 1331, 1728, 2197])>)\n",
      "(<tf.Tensor: shape=(4,), dtype=int32, numpy=array([16, 25, 36, 49])>, <tf.Tensor: shape=(4,), dtype=int32, numpy=array([2744, 3375, 4096, 4913])>)\n",
      "(<tf.Tensor: shape=(2,), dtype=int32, numpy=array([64, 81])>, <tf.Tensor: shape=(2,), dtype=int32, numpy=array([5832, 6859])>)\n"
     ]
    }
   ],
   "source": [
    "for a in ds4:\n",
    "    print(a)"
   ]
  },
  {
   "cell_type": "code",
   "execution_count": 46,
   "metadata": {
    "collapsed": true
   },
   "outputs": [
    {
     "name": "stdout",
     "output_type": "stream",
     "text": [
      "(<tf.Tensor: shape=(4,), dtype=int32, numpy=array([0, 1, 4, 9])>, <tf.Tensor: shape=(4,), dtype=int32, numpy=array([1000, 1331, 1728, 2197])>)\n",
      "(<tf.Tensor: shape=(4,), dtype=int32, numpy=array([16, 25, 36, 49])>, <tf.Tensor: shape=(4,), dtype=int32, numpy=array([2744, 3375, 4096, 4913])>)\n",
      "(<tf.Tensor: shape=(2,), dtype=int32, numpy=array([64, 81])>, <tf.Tensor: shape=(2,), dtype=int32, numpy=array([5832, 6859])>)\n",
      "(<tf.Tensor: shape=(4,), dtype=int32, numpy=array([0, 1, 4, 9])>, <tf.Tensor: shape=(4,), dtype=int32, numpy=array([1000, 1331, 1728, 2197])>)\n",
      "(<tf.Tensor: shape=(4,), dtype=int32, numpy=array([16, 25, 36, 49])>, <tf.Tensor: shape=(4,), dtype=int32, numpy=array([2744, 3375, 4096, 4913])>)\n",
      "(<tf.Tensor: shape=(2,), dtype=int32, numpy=array([64, 81])>, <tf.Tensor: shape=(2,), dtype=int32, numpy=array([5832, 6859])>)\n",
      "(<tf.Tensor: shape=(4,), dtype=int32, numpy=array([0, 1, 4, 9])>, <tf.Tensor: shape=(4,), dtype=int32, numpy=array([1000, 1331, 1728, 2197])>)\n",
      "(<tf.Tensor: shape=(4,), dtype=int32, numpy=array([16, 25, 36, 49])>, <tf.Tensor: shape=(4,), dtype=int32, numpy=array([2744, 3375, 4096, 4913])>)\n",
      "(<tf.Tensor: shape=(2,), dtype=int32, numpy=array([64, 81])>, <tf.Tensor: shape=(2,), dtype=int32, numpy=array([5832, 6859])>)\n"
     ]
    }
   ],
   "source": [
    "# dataset.repeat(count): count 횟수만큼 반복. count 생략시 무한제공\n",
    "for a in ds4.repeat(3):\n",
    "    print(a)"
   ]
  },
  {
   "cell_type": "code",
   "execution_count": 49,
   "metadata": {},
   "outputs": [],
   "source": [
    "dataset = tf.data.Dataset.from_tensor_slices((x, y)).map(lambda x, y : (x ** 2, y ** 3)).shuffle(10).batch(4).repeat(3)"
   ]
  },
  {
   "cell_type": "code",
   "execution_count": 50,
   "metadata": {},
   "outputs": [
    {
     "name": "stdout",
     "output_type": "stream",
     "text": [
      "(<tf.Tensor: shape=(4,), dtype=int32, numpy=array([81,  4,  9, 49])>, <tf.Tensor: shape=(4,), dtype=int32, numpy=array([6859, 1728, 2197, 4913])>)\n",
      "(<tf.Tensor: shape=(4,), dtype=int32, numpy=array([25,  0, 64,  1])>, <tf.Tensor: shape=(4,), dtype=int32, numpy=array([3375, 1000, 5832, 1331])>)\n",
      "(<tf.Tensor: shape=(2,), dtype=int32, numpy=array([36, 16])>, <tf.Tensor: shape=(2,), dtype=int32, numpy=array([4096, 2744])>)\n",
      "(<tf.Tensor: shape=(4,), dtype=int32, numpy=array([ 1, 16, 64, 36])>, <tf.Tensor: shape=(4,), dtype=int32, numpy=array([1331, 2744, 5832, 4096])>)\n",
      "(<tf.Tensor: shape=(4,), dtype=int32, numpy=array([81,  4, 49,  9])>, <tf.Tensor: shape=(4,), dtype=int32, numpy=array([6859, 1728, 4913, 2197])>)\n",
      "(<tf.Tensor: shape=(2,), dtype=int32, numpy=array([ 0, 25])>, <tf.Tensor: shape=(2,), dtype=int32, numpy=array([1000, 3375])>)\n",
      "(<tf.Tensor: shape=(4,), dtype=int32, numpy=array([ 9,  1, 16,  0])>, <tf.Tensor: shape=(4,), dtype=int32, numpy=array([2197, 1331, 2744, 1000])>)\n",
      "(<tf.Tensor: shape=(4,), dtype=int32, numpy=array([36, 49, 64, 25])>, <tf.Tensor: shape=(4,), dtype=int32, numpy=array([4096, 4913, 5832, 3375])>)\n",
      "(<tf.Tensor: shape=(2,), dtype=int32, numpy=array([ 4, 81])>, <tf.Tensor: shape=(2,), dtype=int32, numpy=array([1728, 6859])>)\n"
     ]
    }
   ],
   "source": [
    "for a in dataset:\n",
    "    print(a)"
   ]
  },
  {
   "cell_type": "code",
   "execution_count": 58,
   "metadata": {},
   "outputs": [],
   "source": [
    "# drop_remainder 사용\n",
    "dataset = tf.data.Dataset.from_tensor_slices((x, y)).map(lambda x, y : (x ** 2, y ** 3)).shuffle(10).batch(4, drop_remainder = True)"
   ]
  },
  {
   "cell_type": "code",
   "execution_count": 59,
   "metadata": {},
   "outputs": [
    {
     "name": "stdout",
     "output_type": "stream",
     "text": [
      "(<tf.Tensor: shape=(4,), dtype=int32, numpy=array([36, 49,  0,  9])>, <tf.Tensor: shape=(4,), dtype=int32, numpy=array([4096, 4913, 1000, 2197])>)\n",
      "(<tf.Tensor: shape=(4,), dtype=int32, numpy=array([16, 64, 81, 25])>, <tf.Tensor: shape=(4,), dtype=int32, numpy=array([2744, 5832, 6859, 3375])>)\n"
     ]
    }
   ],
   "source": [
    "for a in dataset:\n",
    "    print(a)"
   ]
  },
  {
   "cell_type": "markdown",
   "metadata": {},
   "source": [
    "# 1. 회귀 - Boston Housing Dataset\n",
    "보스턴 주택가격 dataset은 다음과 같은 속성을 바탕으로 해당 타운 주택 가격의 중앙값을 예측하는 문제.\n",
    "- CRIM: 범죄율\n",
    "- ZN: 25,000 평방피트당 주거지역 비율\n",
    "- INDUS: 비소매 상업지구 비율\n",
    "- CHAS: 찰스강에 인접해 있는지 여부(인접:1, 아니면:0)\n",
    "- NOX: 일산화질소 농도(단위: 0.1ppm)\n",
    "- RM: 주택당 방의 수\n",
    "- AGE: 1940년 이전에 건설된 주택의 비율\n",
    "- DIS: 5개의 보스턴 직업고용센터와의 거리(가중 평균)\n",
    "- RAD: 고속도로 접근성\n",
    "- TAX: 재산세율\n",
    "- PTRATIO: 학생/교사 비율\n",
    "- B: 흑인 비율\n",
    "- LSTAT: 하위 계층 비율\n",
    "\n",
    "예측해야하는 것\n",
    "- MEDV: 타운의 주택가격 중앙값(단위: 1,000달러)"
   ]
  },
  {
   "cell_type": "code",
   "execution_count": 24,
   "metadata": {},
   "outputs": [],
   "source": [
    "import numpy as np\n",
    "import tensorflow as tf\n",
    "from tensorflow import keras"
   ]
  },
  {
   "cell_type": "code",
   "execution_count": 53,
   "metadata": {},
   "outputs": [],
   "source": [
    "# random seed\n",
    "np.random.seed(1)\n",
    "tf.random.set_seed(1)"
   ]
  },
  {
   "cell_type": "code",
   "execution_count": 87,
   "metadata": {},
   "outputs": [
    {
     "data": {
      "text/plain": [
       "((404, 13), (102, 13))"
      ]
     },
     "execution_count": 87,
     "metadata": {},
     "output_type": "execute_result"
    }
   ],
   "source": [
    "# 데이터셋 로딩 -> 데이터 양이 적어 딥러닝에 적합하지 않은 데이터셋\n",
    "(X_train, y_train), (X_test, y_test) = keras.datasets.boston_housing.load_data()\n",
    "X_train.shape, X_test.shape"
   ]
  },
  {
   "cell_type": "code",
   "execution_count": 55,
   "metadata": {},
   "outputs": [
    {
     "data": {
      "text/plain": [
       "array([15.2, 42.3, 50. , 21.1, 17.7])"
      ]
     },
     "execution_count": 55,
     "metadata": {},
     "output_type": "execute_result"
    }
   ],
   "source": [
    "# 회귀(Regression)\n",
    "y_train[:5]"
   ]
  },
  {
   "cell_type": "code",
   "execution_count": 56,
   "metadata": {},
   "outputs": [
    {
     "data": {
      "text/plain": [
       "array([  1.23247,   0.     ,   8.14   ,   0.     ,   0.538  ,   6.142  ,\n",
       "        91.7    ,   3.9769 ,   4.     , 307.     ,  21.     , 396.9    ,\n",
       "        18.72   ])"
      ]
     },
     "execution_count": 56,
     "metadata": {},
     "output_type": "execute_result"
    }
   ],
   "source": [
    "X_train[0]"
   ]
  },
  {
   "cell_type": "code",
   "execution_count": 88,
   "metadata": {},
   "outputs": [],
   "source": [
    "# 하이퍼파라미터 값들을 설정\n",
    "# 학습률\n",
    "# 에폭 횟수: 1 epoch = 전체 데이터셋 1번 사용한 것\n",
    "# batch_size. 32개 데이터셋마다 파라미터(가중치) 업데이트\n",
    "LEARNING_RATE = 0.001  \n",
    "N_EPOCHS = 200  \n",
    "N_BATCHS = 32\n",
    "\n",
    "# train set의 개수\n",
    "# test set의 개수\n",
    "N_TRAIN = X_train.shape[0]\n",
    "N_TEST = X_test.shape[0]\n",
    "\n",
    "# input data의 feature(컬럼 개수)\n",
    "N_FEATURES = X_train.shape[1]"
   ]
  },
  {
   "cell_type": "code",
   "execution_count": 89,
   "metadata": {},
   "outputs": [],
   "source": [
    "# 1. Dataset 생성\n",
    "# SHUFFLE은 EPOCH별로 일어남 -> 200번\n",
    "# drop_remainder = True: 마지막에 batch size보다 제공할 데이터가 적으면 학습시 제공하지 말고 버려라\n",
    "# repeat(): 여러 epoch 돌때마다 계속 데이터 제공하기 위해. repeat 지정하지 않으면 1 epoch 후, 데이터 제공하지 못함\n",
    "train_dataset = tf.data.Dataset.from_tensor_slices((X_train, y_train)).shuffle(N_TRAIN).batch(N_BATCHS, drop_remainder = True).repeat()\n",
    "val_dataset = tf.data.Dataset.from_tensor_slices((X_test, y_test)).batch(N_BATCHS)"
   ]
  },
  {
   "cell_type": "code",
   "execution_count": 90,
   "metadata": {},
   "outputs": [],
   "source": [
    "# 모델 생성\n",
    "def create_model():\n",
    "    model = keras.Sequential()\n",
    "    # 입력 Layer를 따로 정의.\n",
    "    # 첫번째 Layer 만들때 input_shape(1개의 입력데이터의 형태) 지정하면 입력 Layer층이 자동으로 생성\n",
    "    #     model.add(keras.layers.Input((크기)))\n",
    "    model.add(keras.layers.Dense(units = 16, activation  = 'relu', input_shape = (N_FEATURES,)))  # 13개 컬럼 = N_FEATURES\n",
    "    model.add(keras.layers.Dense(units = 8, activation = 'relu'))\n",
    "    # 출력 Layer \n",
    "    # 회귀 출력층: units 수는 1개, activation 함수는 사용하지 않음\n",
    "    model.add(keras.layers.Dense(units = 1))\n",
    "    \n",
    "    # 모델 컴파일\n",
    "    # optimizer의 하이퍼파라미터를 기본값으로 쓸 경우, 문자열로 'adam'으로 선언하면됨\n",
    "    # 회귀의 Loss 함수: mse\n",
    "    # 회귀의 metrics: mse 사용해 따로 정의하지 않음\n",
    "    model.compile(optimizer = tf.keras.optimizers.Adam(learning_rate = LEARNING_RATE),\n",
    "                  loss = 'mse')\n",
    "    return model"
   ]
  },
  {
   "cell_type": "code",
   "execution_count": 91,
   "metadata": {},
   "outputs": [],
   "source": [
    "model = create_model()"
   ]
  },
  {
   "cell_type": "code",
   "execution_count": 92,
   "metadata": {},
   "outputs": [
    {
     "name": "stdout",
     "output_type": "stream",
     "text": [
      "Model: \"sequential_3\"\n",
      "_________________________________________________________________\n",
      "Layer (type)                 Output Shape              Param #   \n",
      "=================================================================\n",
      "dense_7 (Dense)              (None, 16)                224       \n",
      "_________________________________________________________________\n",
      "dense_8 (Dense)              (None, 8)                 136       \n",
      "_________________________________________________________________\n",
      "dense_9 (Dense)              (None, 1)                 9         \n",
      "=================================================================\n",
      "Total params: 369\n",
      "Trainable params: 369\n",
      "Non-trainable params: 0\n",
      "_________________________________________________________________\n"
     ]
    }
   ],
   "source": [
    "model.summary()"
   ]
  },
  {
   "cell_type": "code",
   "execution_count": 93,
   "metadata": {},
   "outputs": [],
   "source": [
    "# step: 한번 가중치 업데이트. 단위 - batch_size\n",
    "# epoch: 전체 train 데이터를 1번 학습\n",
    "\n",
    "# 학습 데이터 개수//배치수\n",
    "steps_per_epoch = N_TRAIN // N_BATCHS\n",
    "validation_steps = int(np.ceil(N_TEST / N_BATCHS))"
   ]
  },
  {
   "cell_type": "code",
   "execution_count": 94,
   "metadata": {},
   "outputs": [
    {
     "name": "stdout",
     "output_type": "stream",
     "text": [
      "Train for 12 steps, validate for 4 steps\n",
      "Epoch 1/200\n",
      "12/12 [==============================] - 1s 118ms/step - loss: 342.9164 - val_loss: 283.7399\n",
      "Epoch 2/200\n",
      "12/12 [==============================] - 0s 6ms/step - loss: 190.9660 - val_loss: 180.9629\n",
      "Epoch 3/200\n",
      "12/12 [==============================] - 0s 6ms/step - loss: 126.5850 - val_loss: 151.2084\n",
      "Epoch 4/200\n",
      "12/12 [==============================] - 0s 6ms/step - loss: 96.9908 - val_loss: 123.9525\n",
      "Epoch 5/200\n",
      "12/12 [==============================] - 0s 7ms/step - loss: 87.3507 - val_loss: 118.6772\n",
      "Epoch 6/200\n",
      "12/12 [==============================] - ETA: 0s - loss: 116.382 - 0s 6ms/step - loss: 82.0030 - val_loss: 111.5324\n",
      "Epoch 7/200\n",
      "12/12 [==============================] - 0s 10ms/step - loss: 75.4587 - val_loss: 108.7098\n",
      "Epoch 8/200\n",
      "12/12 [==============================] - 0s 7ms/step - loss: 71.8383 - val_loss: 105.3963\n",
      "Epoch 9/200\n",
      "12/12 [==============================] - 0s 6ms/step - loss: 70.4384 - val_loss: 110.2355\n",
      "Epoch 10/200\n",
      "12/12 [==============================] - 0s 6ms/step - loss: 68.9768 - val_loss: 99.5949\n",
      "Epoch 11/200\n",
      "12/12 [==============================] - 0s 6ms/step - loss: 69.7615 - val_loss: 98.3611\n",
      "Epoch 12/200\n",
      "12/12 [==============================] - 0s 6ms/step - loss: 67.6776 - val_loss: 98.8551\n",
      "Epoch 13/200\n",
      "12/12 [==============================] - 0s 6ms/step - loss: 66.4916 - val_loss: 95.3882\n",
      "Epoch 14/200\n",
      "12/12 [==============================] - 0s 5ms/step - loss: 65.3030 - val_loss: 93.6362\n",
      "Epoch 15/200\n",
      "12/12 [==============================] - 0s 5ms/step - loss: 64.6321 - val_loss: 96.4668\n",
      "Epoch 16/200\n",
      "12/12 [==============================] - 0s 6ms/step - loss: 60.7710 - val_loss: 91.5629\n",
      "Epoch 17/200\n",
      "12/12 [==============================] - 0s 6ms/step - loss: 66.6204 - val_loss: 101.6368\n",
      "Epoch 18/200\n",
      "12/12 [==============================] - 0s 6ms/step - loss: 56.8492 - val_loss: 87.2280\n",
      "Epoch 19/200\n",
      "12/12 [==============================] - 0s 6ms/step - loss: 61.8093 - val_loss: 84.8971\n",
      "Epoch 20/200\n",
      "12/12 [==============================] - 0s 5ms/step - loss: 62.3833 - val_loss: 85.4043\n",
      "Epoch 21/200\n",
      "12/12 [==============================] - 0s 6ms/step - loss: 62.3690 - val_loss: 82.8601\n",
      "Epoch 22/200\n",
      "12/12 [==============================] - 0s 6ms/step - loss: 59.8828 - val_loss: 88.2924\n",
      "Epoch 23/200\n",
      "12/12 [==============================] - 0s 6ms/step - loss: 58.3287 - val_loss: 85.4522\n",
      "Epoch 24/200\n",
      "12/12 [==============================] - 0s 6ms/step - loss: 57.4073 - val_loss: 85.5920\n",
      "Epoch 25/200\n",
      "12/12 [==============================] - 0s 7ms/step - loss: 56.6820 - val_loss: 77.4992\n",
      "Epoch 26/200\n",
      "12/12 [==============================] - 0s 6ms/step - loss: 57.4026 - val_loss: 80.3791\n",
      "Epoch 27/200\n",
      "12/12 [==============================] - 0s 5ms/step - loss: 54.2196 - val_loss: 76.2993\n",
      "Epoch 28/200\n",
      "12/12 [==============================] - 0s 6ms/step - loss: 52.3143 - val_loss: 73.7420\n",
      "Epoch 29/200\n",
      "12/12 [==============================] - 0s 6ms/step - loss: 51.5339 - val_loss: 75.8840\n",
      "Epoch 30/200\n",
      "12/12 [==============================] - 0s 5ms/step - loss: 52.0882 - val_loss: 71.9672\n",
      "Epoch 31/200\n",
      "12/12 [==============================] - 0s 6ms/step - loss: 52.5251 - val_loss: 85.5204\n",
      "Epoch 32/200\n",
      "12/12 [==============================] - 0s 6ms/step - loss: 51.0295 - val_loss: 68.9705\n",
      "Epoch 33/200\n",
      "12/12 [==============================] - 0s 6ms/step - loss: 51.0182 - val_loss: 73.1690\n",
      "Epoch 34/200\n",
      "12/12 [==============================] - 0s 6ms/step - loss: 49.6198 - val_loss: 68.2219\n",
      "Epoch 35/200\n",
      "12/12 [==============================] - 0s 5ms/step - loss: 50.1401 - val_loss: 67.7747\n",
      "Epoch 36/200\n",
      "12/12 [==============================] - 0s 5ms/step - loss: 50.0474 - val_loss: 64.1258\n",
      "Epoch 37/200\n",
      "12/12 [==============================] - 0s 5ms/step - loss: 48.9672 - val_loss: 63.9232\n",
      "Epoch 38/200\n",
      "12/12 [==============================] - 0s 5ms/step - loss: 45.8210 - val_loss: 63.1555\n",
      "Epoch 39/200\n",
      "12/12 [==============================] - 0s 6ms/step - loss: 47.1251 - val_loss: 61.8929\n",
      "Epoch 40/200\n",
      "12/12 [==============================] - 0s 6ms/step - loss: 49.8063 - val_loss: 62.3345\n",
      "Epoch 41/200\n",
      "12/12 [==============================] - 0s 7ms/step - loss: 48.1797 - val_loss: 62.6145\n",
      "Epoch 42/200\n",
      "12/12 [==============================] - 0s 6ms/step - loss: 52.8716 - val_loss: 69.6155\n",
      "Epoch 43/200\n",
      "12/12 [==============================] - 0s 6ms/step - loss: 44.8091 - val_loss: 66.4238\n",
      "Epoch 44/200\n",
      "12/12 [==============================] - 0s 6ms/step - loss: 44.2076 - val_loss: 59.7441\n",
      "Epoch 45/200\n",
      "12/12 [==============================] - 0s 5ms/step - loss: 41.5092 - val_loss: 58.3100\n",
      "Epoch 46/200\n",
      "12/12 [==============================] - 0s 6ms/step - loss: 41.6414 - val_loss: 58.3759\n",
      "Epoch 47/200\n",
      "12/12 [==============================] - 0s 6ms/step - loss: 42.8858 - val_loss: 68.5814\n",
      "Epoch 48/200\n",
      "12/12 [==============================] - 0s 7ms/step - loss: 41.7603 - val_loss: 58.1303\n",
      "Epoch 49/200\n",
      "12/12 [==============================] - 0s 8ms/step - loss: 38.6416 - val_loss: 57.7767\n",
      "Epoch 50/200\n",
      "12/12 [==============================] - 0s 8ms/step - loss: 39.5607 - val_loss: 62.7474\n",
      "Epoch 51/200\n",
      "12/12 [==============================] - 0s 8ms/step - loss: 40.1122 - val_loss: 62.2742\n",
      "Epoch 52/200\n",
      "12/12 [==============================] - 0s 7ms/step - loss: 40.0515 - val_loss: 56.1872\n",
      "Epoch 53/200\n",
      "12/12 [==============================] - 0s 11ms/step - loss: 35.5678 - val_loss: 54.2071\n",
      "Epoch 54/200\n",
      "12/12 [==============================] - 0s 8ms/step - loss: 37.3039 - val_loss: 53.9606\n",
      "Epoch 55/200\n",
      "12/12 [==============================] - 0s 7ms/step - loss: 36.8908 - val_loss: 53.5978\n",
      "Epoch 56/200\n",
      "12/12 [==============================] - 0s 6ms/step - loss: 35.0998 - val_loss: 54.1336\n",
      "Epoch 57/200\n",
      "12/12 [==============================] - 0s 7ms/step - loss: 35.5876 - val_loss: 52.3875\n",
      "Epoch 58/200\n",
      "12/12 [==============================] - 0s 5ms/step - loss: 36.5064 - val_loss: 55.3240\n",
      "Epoch 59/200\n",
      "12/12 [==============================] - 0s 5ms/step - loss: 35.6413 - val_loss: 51.5487\n",
      "Epoch 60/200\n",
      "12/12 [==============================] - 0s 4ms/step - loss: 32.8030 - val_loss: 51.8420\n",
      "Epoch 61/200\n",
      "12/12 [==============================] - 0s 4ms/step - loss: 37.5222 - val_loss: 52.0950\n",
      "Epoch 62/200\n",
      "12/12 [==============================] - 0s 4ms/step - loss: 34.0007 - val_loss: 50.7043\n",
      "Epoch 63/200\n",
      "12/12 [==============================] - 0s 5ms/step - loss: 33.7809 - val_loss: 50.5683\n",
      "Epoch 64/200\n",
      "12/12 [==============================] - 0s 5ms/step - loss: 36.1738 - val_loss: 51.0614\n",
      "Epoch 65/200\n",
      "12/12 [==============================] - 0s 5ms/step - loss: 33.4785 - val_loss: 51.2197\n",
      "Epoch 66/200\n",
      "12/12 [==============================] - 0s 5ms/step - loss: 33.3693 - val_loss: 52.6259\n",
      "Epoch 67/200\n",
      "12/12 [==============================] - 0s 5ms/step - loss: 34.0502 - val_loss: 48.8756\n",
      "Epoch 68/200\n",
      "12/12 [==============================] - 0s 6ms/step - loss: 35.2453 - val_loss: 48.9699\n",
      "Epoch 69/200\n",
      "12/12 [==============================] - 0s 6ms/step - loss: 33.1605 - val_loss: 50.2638\n",
      "Epoch 70/200\n",
      "12/12 [==============================] - 0s 6ms/step - loss: 33.7437 - val_loss: 48.2813\n",
      "Epoch 71/200\n",
      "12/12 [==============================] - 0s 6ms/step - loss: 34.2175 - val_loss: 47.8049\n",
      "Epoch 72/200\n",
      "12/12 [==============================] - 0s 6ms/step - loss: 34.4920 - val_loss: 48.5358\n",
      "Epoch 73/200\n",
      "12/12 [==============================] - 0s 5ms/step - loss: 33.1331 - val_loss: 49.1778\n",
      "Epoch 74/200\n",
      "12/12 [==============================] - 0s 5ms/step - loss: 31.9032 - val_loss: 46.7342\n",
      "Epoch 75/200\n",
      "12/12 [==============================] - 0s 5ms/step - loss: 34.4389 - val_loss: 47.0780\n",
      "Epoch 76/200\n",
      "12/12 [==============================] - 0s 5ms/step - loss: 32.8259 - val_loss: 49.1277\n",
      "Epoch 77/200\n",
      "12/12 [==============================] - 0s 6ms/step - loss: 32.4501 - val_loss: 46.2883\n",
      "Epoch 78/200\n",
      "12/12 [==============================] - 0s 5ms/step - loss: 28.7094 - val_loss: 46.6038\n",
      "Epoch 79/200\n",
      "12/12 [==============================] - 0s 5ms/step - loss: 33.2401 - val_loss: 45.5851\n",
      "Epoch 80/200\n",
      "12/12 [==============================] - 0s 5ms/step - loss: 32.6081 - val_loss: 50.9405\n",
      "Epoch 81/200\n",
      "12/12 [==============================] - 0s 6ms/step - loss: 31.6093 - val_loss: 52.3707\n",
      "Epoch 82/200\n",
      "12/12 [==============================] - 0s 6ms/step - loss: 32.4907 - val_loss: 49.8226\n",
      "Epoch 83/200\n",
      "12/12 [==============================] - 0s 5ms/step - loss: 30.5396 - val_loss: 44.1867\n",
      "Epoch 84/200\n",
      "12/12 [==============================] - 0s 6ms/step - loss: 31.9361 - val_loss: 46.1307\n",
      "Epoch 85/200\n",
      "12/12 [==============================] - 0s 6ms/step - loss: 30.1912 - val_loss: 43.9224\n",
      "Epoch 86/200\n",
      "12/12 [==============================] - 0s 6ms/step - loss: 32.8102 - val_loss: 43.7449\n",
      "Epoch 87/200\n",
      "12/12 [==============================] - 0s 6ms/step - loss: 29.8443 - val_loss: 43.4131\n",
      "Epoch 88/200\n",
      "12/12 [==============================] - 0s 5ms/step - loss: 31.9891 - val_loss: 42.8273\n",
      "Epoch 89/200\n",
      "12/12 [==============================] - 0s 5ms/step - loss: 30.9432 - val_loss: 42.6654\n",
      "Epoch 90/200\n",
      "12/12 [==============================] - 0s 5ms/step - loss: 31.7093 - val_loss: 46.0029\n",
      "Epoch 91/200\n",
      "12/12 [==============================] - 0s 6ms/step - loss: 31.3292 - val_loss: 43.0167\n",
      "Epoch 92/200\n",
      "12/12 [==============================] - 0s 6ms/step - loss: 30.4071 - val_loss: 42.5900\n",
      "Epoch 93/200\n",
      "12/12 [==============================] - 0s 5ms/step - loss: 31.4594 - val_loss: 46.6566\n",
      "Epoch 94/200\n",
      "12/12 [==============================] - 0s 5ms/step - loss: 30.2731 - val_loss: 47.9991\n",
      "Epoch 95/200\n",
      "12/12 [==============================] - 0s 6ms/step - loss: 31.4909 - val_loss: 44.4211\n",
      "Epoch 96/200\n",
      "12/12 [==============================] - 0s 7ms/step - loss: 29.8609 - val_loss: 41.7270\n",
      "Epoch 97/200\n",
      "12/12 [==============================] - 0s 7ms/step - loss: 29.3074 - val_loss: 45.4542\n",
      "Epoch 98/200\n",
      "12/12 [==============================] - 0s 9ms/step - loss: 32.3298 - val_loss: 46.3846\n",
      "Epoch 99/200\n",
      "12/12 [==============================] - 0s 9ms/step - loss: 31.4729 - val_loss: 43.8170\n",
      "Epoch 100/200\n",
      "12/12 [==============================] - 0s 8ms/step - loss: 27.3994 - val_loss: 43.5784\n",
      "Epoch 101/200\n",
      "12/12 [==============================] - 0s 9ms/step - loss: 30.5473 - val_loss: 41.1350\n",
      "Epoch 102/200\n",
      "12/12 [==============================] - 0s 7ms/step - loss: 28.0834 - val_loss: 42.1723\n",
      "Epoch 103/200\n",
      "12/12 [==============================] - 0s 8ms/step - loss: 30.1718 - val_loss: 40.5044\n",
      "Epoch 104/200\n",
      "12/12 [==============================] - 0s 6ms/step - loss: 29.3303 - val_loss: 40.1432\n",
      "Epoch 105/200\n",
      "12/12 [==============================] - 0s 6ms/step - loss: 29.1789 - val_loss: 41.2574\n",
      "Epoch 106/200\n",
      "12/12 [==============================] - 0s 6ms/step - loss: 29.5984 - val_loss: 40.2117\n",
      "Epoch 107/200\n",
      "12/12 [==============================] - 0s 6ms/step - loss: 27.6346 - val_loss: 40.2409\n",
      "Epoch 108/200\n",
      "12/12 [==============================] - 0s 5ms/step - loss: 29.2942 - val_loss: 39.6243\n",
      "Epoch 109/200\n",
      "12/12 [==============================] - 0s 6ms/step - loss: 28.4687 - val_loss: 43.7425\n",
      "Epoch 110/200\n",
      "12/12 [==============================] - 0s 6ms/step - loss: 32.4758 - val_loss: 49.3817\n",
      "Epoch 111/200\n",
      "12/12 [==============================] - 0s 7ms/step - loss: 34.1819 - val_loss: 56.2335\n",
      "Epoch 112/200\n",
      "12/12 [==============================] - 0s 7ms/step - loss: 33.2511 - val_loss: 47.8903\n",
      "Epoch 113/200\n",
      "12/12 [==============================] - 0s 6ms/step - loss: 34.9491 - val_loss: 49.5202\n",
      "Epoch 114/200\n",
      "12/12 [==============================] - 0s 5ms/step - loss: 32.0893 - val_loss: 40.3526\n",
      "Epoch 115/200\n",
      "12/12 [==============================] - 0s 4ms/step - loss: 28.4000 - val_loss: 39.7072\n",
      "Epoch 116/200\n",
      "12/12 [==============================] - 0s 5ms/step - loss: 27.4948 - val_loss: 39.1498\n",
      "Epoch 117/200\n",
      "12/12 [==============================] - 0s 6ms/step - loss: 25.5845 - val_loss: 39.3283\n",
      "Epoch 118/200\n",
      "12/12 [==============================] - 0s 5ms/step - loss: 26.5457 - val_loss: 41.0164\n",
      "Epoch 119/200\n",
      "12/12 [==============================] - 0s 6ms/step - loss: 28.1991 - val_loss: 39.9214\n",
      "Epoch 120/200\n",
      "12/12 [==============================] - 0s 6ms/step - loss: 27.5575 - val_loss: 41.0141\n",
      "Epoch 121/200\n",
      "12/12 [==============================] - 0s 7ms/step - loss: 28.0993 - val_loss: 38.5494\n",
      "Epoch 122/200\n",
      "12/12 [==============================] - 0s 6ms/step - loss: 27.9029 - val_loss: 39.6392\n",
      "Epoch 123/200\n",
      "12/12 [==============================] - 0s 7ms/step - loss: 28.4378 - val_loss: 42.1868\n",
      "Epoch 124/200\n",
      "12/12 [==============================] - 0s 9ms/step - loss: 27.1872 - val_loss: 38.0961\n",
      "Epoch 125/200\n",
      "12/12 [==============================] - 0s 8ms/step - loss: 26.4041 - val_loss: 38.5707\n",
      "Epoch 126/200\n",
      "12/12 [==============================] - 0s 7ms/step - loss: 26.5581 - val_loss: 38.1868\n",
      "Epoch 127/200\n",
      "12/12 [==============================] - 0s 6ms/step - loss: 26.1521 - val_loss: 39.0664\n",
      "Epoch 128/200\n",
      "12/12 [==============================] - 0s 6ms/step - loss: 27.1051 - val_loss: 39.7348\n",
      "Epoch 129/200\n",
      "12/12 [==============================] - 0s 7ms/step - loss: 27.8710 - val_loss: 39.1238\n",
      "Epoch 130/200\n",
      "12/12 [==============================] - 0s 5ms/step - loss: 27.5263 - val_loss: 37.9204\n",
      "Epoch 131/200\n",
      "12/12 [==============================] - 0s 6ms/step - loss: 27.1438 - val_loss: 46.8761\n",
      "Epoch 132/200\n",
      "12/12 [==============================] - 0s 5ms/step - loss: 26.9329 - val_loss: 41.3761\n",
      "Epoch 133/200\n",
      "12/12 [==============================] - 0s 7ms/step - loss: 26.6871 - val_loss: 37.4553\n",
      "Epoch 134/200\n",
      "12/12 [==============================] - 0s 11ms/step - loss: 25.6814 - val_loss: 37.7463\n",
      "Epoch 135/200\n",
      "12/12 [==============================] - 0s 6ms/step - loss: 25.3722 - val_loss: 37.9462\n",
      "Epoch 136/200\n",
      "12/12 [==============================] - 0s 7ms/step - loss: 25.5971 - val_loss: 40.4130\n",
      "Epoch 137/200\n",
      "12/12 [==============================] - 0s 8ms/step - loss: 27.7315 - val_loss: 38.5278\n",
      "Epoch 138/200\n",
      "12/12 [==============================] - 0s 6ms/step - loss: 26.6560 - val_loss: 37.3468\n",
      "Epoch 139/200\n",
      "12/12 [==============================] - 0s 7ms/step - loss: 25.5505 - val_loss: 38.6815\n",
      "Epoch 140/200\n",
      "12/12 [==============================] - 0s 6ms/step - loss: 25.7506 - val_loss: 38.6523\n",
      "Epoch 141/200\n",
      "12/12 [==============================] - 0s 6ms/step - loss: 25.8088 - val_loss: 37.2325\n",
      "Epoch 142/200\n",
      "12/12 [==============================] - 0s 8ms/step - loss: 24.5535 - val_loss: 43.3483\n",
      "Epoch 143/200\n",
      "12/12 [==============================] - 0s 8ms/step - loss: 26.3315 - val_loss: 40.8268\n",
      "Epoch 144/200\n",
      "12/12 [==============================] - 0s 7ms/step - loss: 25.8153 - val_loss: 41.7848\n",
      "Epoch 145/200\n",
      "12/12 [==============================] - 0s 7ms/step - loss: 25.8039 - val_loss: 37.6873\n",
      "Epoch 146/200\n",
      "12/12 [==============================] - 0s 7ms/step - loss: 24.4270 - val_loss: 37.1560\n",
      "Epoch 147/200\n",
      "12/12 [==============================] - 0s 6ms/step - loss: 25.6701 - val_loss: 42.1669\n",
      "Epoch 148/200\n",
      "12/12 [==============================] - 0s 6ms/step - loss: 24.8052 - val_loss: 38.0399\n",
      "Epoch 149/200\n",
      "12/12 [==============================] - 0s 6ms/step - loss: 24.7462 - val_loss: 37.9651\n",
      "Epoch 150/200\n",
      "12/12 [==============================] - 0s 5ms/step - loss: 24.3155 - val_loss: 37.1059\n",
      "Epoch 151/200\n",
      "12/12 [==============================] - 0s 6ms/step - loss: 23.4190 - val_loss: 38.4458\n",
      "Epoch 152/200\n",
      "12/12 [==============================] - 0s 6ms/step - loss: 23.7658 - val_loss: 38.3264\n",
      "Epoch 153/200\n",
      "12/12 [==============================] - 0s 6ms/step - loss: 21.8299 - val_loss: 37.4901\n",
      "Epoch 154/200\n",
      "12/12 [==============================] - 0s 6ms/step - loss: 24.2747 - val_loss: 37.7831\n",
      "Epoch 155/200\n",
      "12/12 [==============================] - 0s 5ms/step - loss: 23.3581 - val_loss: 37.8840\n",
      "Epoch 156/200\n",
      "12/12 [==============================] - 0s 5ms/step - loss: 23.9332 - val_loss: 37.7749\n",
      "Epoch 157/200\n",
      "12/12 [==============================] - 0s 6ms/step - loss: 23.9148 - val_loss: 37.9207\n",
      "Epoch 158/200\n",
      "12/12 [==============================] - 0s 6ms/step - loss: 24.5139 - val_loss: 37.1876\n",
      "Epoch 159/200\n",
      "12/12 [==============================] - 0s 6ms/step - loss: 23.2072 - val_loss: 38.0290\n"
     ]
    },
    {
     "name": "stdout",
     "output_type": "stream",
     "text": [
      "Epoch 160/200\n",
      "12/12 [==============================] - 0s 6ms/step - loss: 22.0435 - val_loss: 39.2478\n",
      "Epoch 161/200\n",
      "12/12 [==============================] - 0s 6ms/step - loss: 24.2327 - val_loss: 38.9043\n",
      "Epoch 162/200\n",
      "12/12 [==============================] - 0s 5ms/step - loss: 22.9507 - val_loss: 37.6705\n",
      "Epoch 163/200\n",
      "12/12 [==============================] - 0s 5ms/step - loss: 22.4642 - val_loss: 38.3463\n",
      "Epoch 164/200\n",
      "12/12 [==============================] - 0s 5ms/step - loss: 23.2577 - val_loss: 37.9847\n",
      "Epoch 165/200\n",
      "12/12 [==============================] - 0s 4ms/step - loss: 22.3990 - val_loss: 38.0546\n",
      "Epoch 166/200\n",
      "12/12 [==============================] - 0s 6ms/step - loss: 24.9288 - val_loss: 39.2256\n",
      "Epoch 167/200\n",
      "12/12 [==============================] - 0s 6ms/step - loss: 23.3782 - val_loss: 38.9063\n",
      "Epoch 168/200\n",
      "12/12 [==============================] - 0s 6ms/step - loss: 24.9518 - val_loss: 38.8824\n",
      "Epoch 169/200\n",
      "12/12 [==============================] - 0s 6ms/step - loss: 22.1381 - val_loss: 38.0618\n",
      "Epoch 170/200\n",
      "12/12 [==============================] - 0s 6ms/step - loss: 23.6577 - val_loss: 36.5519\n",
      "Epoch 171/200\n",
      "12/12 [==============================] - 0s 6ms/step - loss: 20.9330 - val_loss: 37.8413\n",
      "Epoch 172/200\n",
      "12/12 [==============================] - 0s 6ms/step - loss: 22.0933 - val_loss: 38.4996\n",
      "Epoch 173/200\n",
      "12/12 [==============================] - 0s 5ms/step - loss: 22.9024 - val_loss: 37.6206\n",
      "Epoch 174/200\n",
      "12/12 [==============================] - 0s 6ms/step - loss: 21.3452 - val_loss: 36.7720\n",
      "Epoch 175/200\n",
      "12/12 [==============================] - 0s 6ms/step - loss: 21.4972 - val_loss: 44.6848\n",
      "Epoch 176/200\n",
      "12/12 [==============================] - 0s 6ms/step - loss: 21.1121 - val_loss: 38.0071\n",
      "Epoch 177/200\n",
      "12/12 [==============================] - 0s 7ms/step - loss: 21.7795 - val_loss: 37.2064\n",
      "Epoch 178/200\n",
      "12/12 [==============================] - 0s 6ms/step - loss: 21.4869 - val_loss: 38.6202\n",
      "Epoch 179/200\n",
      "12/12 [==============================] - 0s 13ms/step - loss: 20.3048 - val_loss: 38.8586\n",
      "Epoch 180/200\n",
      "12/12 [==============================] - 0s 9ms/step - loss: 21.4874 - val_loss: 41.7228\n",
      "Epoch 181/200\n",
      "12/12 [==============================] - 0s 6ms/step - loss: 23.5608 - val_loss: 49.1217\n",
      "Epoch 182/200\n",
      "12/12 [==============================] - 0s 6ms/step - loss: 22.7029 - val_loss: 39.9594\n",
      "Epoch 183/200\n",
      "12/12 [==============================] - 0s 6ms/step - loss: 21.6027 - val_loss: 38.7685\n",
      "Epoch 184/200\n",
      "12/12 [==============================] - 0s 5ms/step - loss: 22.8445 - val_loss: 40.9022\n",
      "Epoch 185/200\n",
      "12/12 [==============================] - 0s 6ms/step - loss: 24.2488 - val_loss: 39.0330\n",
      "Epoch 186/200\n",
      "12/12 [==============================] - 0s 6ms/step - loss: 21.3329 - val_loss: 37.1477\n",
      "Epoch 187/200\n",
      "12/12 [==============================] - 0s 5ms/step - loss: 20.1599 - val_loss: 38.1151\n",
      "Epoch 188/200\n",
      "12/12 [==============================] - 0s 5ms/step - loss: 21.0803 - val_loss: 37.5240\n",
      "Epoch 189/200\n",
      "12/12 [==============================] - 0s 7ms/step - loss: 20.3990 - val_loss: 37.0798\n",
      "Epoch 190/200\n",
      "12/12 [==============================] - 0s 5ms/step - loss: 19.2480 - val_loss: 39.2275\n",
      "Epoch 191/200\n",
      "12/12 [==============================] - 0s 7ms/step - loss: 19.6161 - val_loss: 38.0051\n",
      "Epoch 192/200\n",
      "12/12 [==============================] - 0s 8ms/step - loss: 22.3508 - val_loss: 38.3992\n",
      "Epoch 193/200\n",
      "12/12 [==============================] - 0s 6ms/step - loss: 20.5064 - val_loss: 37.7433\n",
      "Epoch 194/200\n",
      "12/12 [==============================] - 0s 6ms/step - loss: 19.2817 - val_loss: 39.2393\n",
      "Epoch 195/200\n",
      "12/12 [==============================] - 0s 7ms/step - loss: 19.3264 - val_loss: 38.8509\n",
      "Epoch 196/200\n",
      "12/12 [==============================] - 0s 6ms/step - loss: 20.1355 - val_loss: 46.6152\n",
      "Epoch 197/200\n",
      "12/12 [==============================] - 0s 6ms/step - loss: 21.0688 - val_loss: 42.1456\n",
      "Epoch 198/200\n",
      "12/12 [==============================] - 0s 6ms/step - loss: 19.2820 - val_loss: 39.3790\n",
      "Epoch 199/200\n",
      "12/12 [==============================] - 0s 6ms/step - loss: 19.6138 - val_loss: 38.2377\n",
      "Epoch 200/200\n",
      "12/12 [==============================] - 0s 7ms/step - loss: 20.2547 - val_loss: 40.5583\n"
     ]
    }
   ],
   "source": [
    "history = model.fit(train_dataset,  # train dataset(X_train, y_train)\n",
    "                    epochs = N_EPOCHS,\n",
    "                    steps_per_epoch = steps_per_epoch,  # 1 에폭당 step 수(텐서플로우 2.3 버전 이상에서는 자동으로 해줌)\n",
    "                    validation_data = val_dataset,  # 검증 Dataset 지정\n",
    "                    validation_steps = validation_steps)"
   ]
  },
  {
   "cell_type": "code",
   "execution_count": 95,
   "metadata": {},
   "outputs": [
    {
     "data": {
      "text/plain": [
       "dict_keys(['loss', 'val_loss'])"
      ]
     },
     "execution_count": 95,
     "metadata": {},
     "output_type": "execute_result"
    }
   ],
   "source": [
    "# 딕셔너리로 반환\n",
    "history.history.keys()"
   ]
  },
  {
   "cell_type": "code",
   "execution_count": 96,
   "metadata": {},
   "outputs": [
    {
     "data": {
      "text/plain": [
       "{'loss': [342.91639073689777,\n",
       "  190.96595509847006,\n",
       "  126.58495044708252,\n",
       "  96.99082501729329,\n",
       "  87.35074361165364,\n",
       "  82.00296688079834,\n",
       "  75.45868460337321,\n",
       "  71.83833567301433,\n",
       "  70.43837396303813,\n",
       "  68.97678629557292,\n",
       "  69.76152801513672,\n",
       "  67.67764091491699,\n",
       "  66.4915582338969,\n",
       "  65.30295419692993,\n",
       "  64.63210233052571,\n",
       "  60.771044413248696,\n",
       "  66.6203540166219,\n",
       "  56.849200089772545,\n",
       "  61.809296449025474,\n",
       "  62.383349100748696,\n",
       "  62.36900822321574,\n",
       "  59.88281178474426,\n",
       "  58.32865238189697,\n",
       "  57.40733655293783,\n",
       "  56.68204673131307,\n",
       "  57.40256150563558,\n",
       "  54.21955521901449,\n",
       "  52.31430848439535,\n",
       "  51.53387721379598,\n",
       "  52.08818689982096,\n",
       "  52.525094985961914,\n",
       "  51.02952257792155,\n",
       "  51.018221060434975,\n",
       "  49.619771798451744,\n",
       "  50.14012813568115,\n",
       "  50.047361532847084,\n",
       "  48.96723477045695,\n",
       "  45.82097880045573,\n",
       "  47.125127951304115,\n",
       "  49.80625629425049,\n",
       "  48.17972739537557,\n",
       "  52.87158219019572,\n",
       "  44.80911445617676,\n",
       "  44.20755624771118,\n",
       "  41.50920009613037,\n",
       "  41.641368548075356,\n",
       "  42.885798931121826,\n",
       "  41.76032670338949,\n",
       "  38.64163319269816,\n",
       "  39.56068277359009,\n",
       "  40.11221249898275,\n",
       "  40.05151335398356,\n",
       "  35.56776666641235,\n",
       "  37.303865591684975,\n",
       "  36.89076058069865,\n",
       "  35.09979804356893,\n",
       "  35.58756240208944,\n",
       "  36.506404876708984,\n",
       "  35.64132531483968,\n",
       "  32.80296834309896,\n",
       "  37.52220058441162,\n",
       "  34.0006750424703,\n",
       "  33.78086614608765,\n",
       "  36.17379848162333,\n",
       "  33.478464682896934,\n",
       "  33.369293451309204,\n",
       "  34.050224939982094,\n",
       "  35.24534591039022,\n",
       "  33.16051618258158,\n",
       "  33.74372545878092,\n",
       "  34.21753787994385,\n",
       "  34.49201154708862,\n",
       "  33.13305417696635,\n",
       "  31.903175989786785,\n",
       "  34.438944816589355,\n",
       "  32.82590341567993,\n",
       "  32.45007292429606,\n",
       "  28.70942449569702,\n",
       "  33.24011588096619,\n",
       "  32.60808801651001,\n",
       "  31.60933001836141,\n",
       "  32.49068737030029,\n",
       "  30.539594968159992,\n",
       "  31.93608283996582,\n",
       "  30.191242535909016,\n",
       "  32.81023406982422,\n",
       "  29.844277143478394,\n",
       "  31.98907009760539,\n",
       "  30.94318683942159,\n",
       "  31.709272066752117,\n",
       "  31.329172213872273,\n",
       "  30.40712634722392,\n",
       "  31.459389209747314,\n",
       "  30.273070017496746,\n",
       "  31.490898450215656,\n",
       "  29.86091136932373,\n",
       "  29.307380437850952,\n",
       "  32.32975618044535,\n",
       "  31.47294330596924,\n",
       "  27.399449427922566,\n",
       "  30.547269980112713,\n",
       "  28.083396593729656,\n",
       "  30.171786546707153,\n",
       "  29.330307483673096,\n",
       "  29.178895155588787,\n",
       "  29.59840178489685,\n",
       "  27.63455041249593,\n",
       "  29.294243892033894,\n",
       "  28.46872345606486,\n",
       "  32.47580647468567,\n",
       "  34.181928634643555,\n",
       "  33.251091639200844,\n",
       "  34.94908666610718,\n",
       "  32.08931922912598,\n",
       "  28.4000145594279,\n",
       "  27.494834105173748,\n",
       "  25.58451731999715,\n",
       "  26.54571262995402,\n",
       "  28.199066559473675,\n",
       "  27.55751625696818,\n",
       "  28.099289417266846,\n",
       "  27.9029122988383,\n",
       "  28.437833229700725,\n",
       "  27.187198797861736,\n",
       "  26.40407331784566,\n",
       "  26.55807288487752,\n",
       "  26.15209682782491,\n",
       "  27.10508330663045,\n",
       "  27.870983680089314,\n",
       "  27.526257673899334,\n",
       "  27.14375631014506,\n",
       "  26.932920932769775,\n",
       "  26.68707211812337,\n",
       "  25.6814063390096,\n",
       "  25.372239192326862,\n",
       "  25.597129503885906,\n",
       "  27.731542269388836,\n",
       "  26.656049013137817,\n",
       "  25.550529718399048,\n",
       "  25.750561475753784,\n",
       "  25.808834552764893,\n",
       "  24.553452253341675,\n",
       "  26.331483523050945,\n",
       "  25.815318028132122,\n",
       "  25.80394172668457,\n",
       "  24.426992495854694,\n",
       "  25.67007366816203,\n",
       "  24.805219809214275,\n",
       "  24.74623131752014,\n",
       "  24.31547959645589,\n",
       "  23.418965101242065,\n",
       "  23.765828847885132,\n",
       "  21.82986815770467,\n",
       "  24.274658521016438,\n",
       "  23.358144124348957,\n",
       "  23.933168093363445,\n",
       "  23.91480779647827,\n",
       "  24.513888597488403,\n",
       "  23.207216103871662,\n",
       "  22.04347324371338,\n",
       "  24.232713381449383,\n",
       "  22.950700839360554,\n",
       "  22.46421281496684,\n",
       "  23.257654269536335,\n",
       "  22.39903251330058,\n",
       "  24.928793748219807,\n",
       "  23.37824058532715,\n",
       "  24.951751629511516,\n",
       "  22.1380516688029,\n",
       "  23.657701015472412,\n",
       "  20.932996034622192,\n",
       "  22.09330177307129,\n",
       "  22.902438799540203,\n",
       "  21.34516219298045,\n",
       "  21.497169335683186,\n",
       "  21.11212666829427,\n",
       "  21.77947211265564,\n",
       "  21.486860354741413,\n",
       "  20.304829676946003,\n",
       "  21.487404584884644,\n",
       "  23.560848474502563,\n",
       "  22.702885389328003,\n",
       "  21.602694352467854,\n",
       "  22.844457149505615,\n",
       "  24.248778422673542,\n",
       "  21.332885424296062,\n",
       "  20.159910758336384,\n",
       "  21.080252250035603,\n",
       "  20.399049758911133,\n",
       "  19.248035351435345,\n",
       "  19.61605699857076,\n",
       "  22.35079900423686,\n",
       "  20.506428003311157,\n",
       "  19.281675418217976,\n",
       "  19.326421578725178,\n",
       "  20.135527849197388,\n",
       "  21.068828741709392,\n",
       "  19.281996250152588,\n",
       "  19.61379114786784,\n",
       "  20.254706740379333],\n",
       " 'val_loss': [283.73988342285156,\n",
       "  180.96290969848633,\n",
       "  151.20841026306152,\n",
       "  123.95246505737305,\n",
       "  118.67720222473145,\n",
       "  111.53240585327148,\n",
       "  108.70981216430664,\n",
       "  105.39633369445801,\n",
       "  110.23548793792725,\n",
       "  99.59486484527588,\n",
       "  98.3611068725586,\n",
       "  98.8550910949707,\n",
       "  95.38818550109863,\n",
       "  93.6362190246582,\n",
       "  96.46681308746338,\n",
       "  91.56287670135498,\n",
       "  101.63677978515625,\n",
       "  87.22795486450195,\n",
       "  84.89712333679199,\n",
       "  85.4042739868164,\n",
       "  82.86008071899414,\n",
       "  88.2924451828003,\n",
       "  85.45221042633057,\n",
       "  85.59200286865234,\n",
       "  77.49921703338623,\n",
       "  80.37907600402832,\n",
       "  76.29928398132324,\n",
       "  73.74197196960449,\n",
       "  75.88403415679932,\n",
       "  71.96715068817139,\n",
       "  85.52041339874268,\n",
       "  68.97053813934326,\n",
       "  73.16901636123657,\n",
       "  68.22190618515015,\n",
       "  67.77467823028564,\n",
       "  64.1258192062378,\n",
       "  63.92316961288452,\n",
       "  63.15550422668457,\n",
       "  61.89293909072876,\n",
       "  62.33445739746094,\n",
       "  62.6144905090332,\n",
       "  69.61549234390259,\n",
       "  66.42384243011475,\n",
       "  59.74408769607544,\n",
       "  58.31003379821777,\n",
       "  58.37594270706177,\n",
       "  68.58143997192383,\n",
       "  58.130287170410156,\n",
       "  57.77669715881348,\n",
       "  62.74736309051514,\n",
       "  62.274245262145996,\n",
       "  56.187156200408936,\n",
       "  54.20709419250488,\n",
       "  53.96055889129639,\n",
       "  53.597784996032715,\n",
       "  54.13359022140503,\n",
       "  52.38751983642578,\n",
       "  55.324045181274414,\n",
       "  51.54871606826782,\n",
       "  51.841976165771484,\n",
       "  52.09501647949219,\n",
       "  50.70426797866821,\n",
       "  50.56833744049072,\n",
       "  51.061392307281494,\n",
       "  51.21970796585083,\n",
       "  52.62589454650879,\n",
       "  48.875609397888184,\n",
       "  48.969879150390625,\n",
       "  50.26381874084473,\n",
       "  48.28127574920654,\n",
       "  47.80488204956055,\n",
       "  48.53578758239746,\n",
       "  49.17778205871582,\n",
       "  46.734238624572754,\n",
       "  47.07804775238037,\n",
       "  49.127694606781006,\n",
       "  46.288259983062744,\n",
       "  46.603760719299316,\n",
       "  45.58512830734253,\n",
       "  50.94054698944092,\n",
       "  52.370744705200195,\n",
       "  49.82261896133423,\n",
       "  44.18674278259277,\n",
       "  46.13066101074219,\n",
       "  43.92235326766968,\n",
       "  43.744873046875,\n",
       "  43.413108825683594,\n",
       "  42.82731819152832,\n",
       "  42.66538667678833,\n",
       "  46.002888202667236,\n",
       "  43.01667404174805,\n",
       "  42.589980602264404,\n",
       "  46.656582832336426,\n",
       "  47.99912643432617,\n",
       "  44.421090602874756,\n",
       "  41.72696304321289,\n",
       "  45.45420598983765,\n",
       "  46.38458251953125,\n",
       "  43.817036628723145,\n",
       "  43.578354835510254,\n",
       "  41.13495588302612,\n",
       "  42.17229223251343,\n",
       "  40.504436016082764,\n",
       "  40.143221378326416,\n",
       "  41.25742435455322,\n",
       "  40.21170711517334,\n",
       "  40.24085998535156,\n",
       "  39.6243371963501,\n",
       "  43.74252414703369,\n",
       "  49.381690979003906,\n",
       "  56.23345756530762,\n",
       "  47.89026880264282,\n",
       "  49.52022457122803,\n",
       "  40.35263109207153,\n",
       "  39.70715808868408,\n",
       "  39.14982223510742,\n",
       "  39.328338623046875,\n",
       "  41.01635265350342,\n",
       "  39.921446323394775,\n",
       "  41.01408624649048,\n",
       "  38.549445152282715,\n",
       "  39.639155864715576,\n",
       "  42.18681764602661,\n",
       "  38.09611892700195,\n",
       "  38.570656299591064,\n",
       "  38.18675088882446,\n",
       "  39.06640005111694,\n",
       "  39.73475980758667,\n",
       "  39.12379026412964,\n",
       "  37.920387268066406,\n",
       "  46.876057147979736,\n",
       "  41.3760986328125,\n",
       "  37.45534324645996,\n",
       "  37.74633550643921,\n",
       "  37.946208000183105,\n",
       "  40.41304016113281,\n",
       "  38.527841567993164,\n",
       "  37.34678363800049,\n",
       "  38.681546211242676,\n",
       "  38.65225124359131,\n",
       "  37.232465744018555,\n",
       "  43.34827280044556,\n",
       "  40.82679080963135,\n",
       "  41.784780502319336,\n",
       "  37.68729257583618,\n",
       "  37.155978202819824,\n",
       "  42.1669397354126,\n",
       "  38.0399489402771,\n",
       "  37.965067863464355,\n",
       "  37.10591745376587,\n",
       "  38.445841789245605,\n",
       "  38.32642936706543,\n",
       "  37.490113258361816,\n",
       "  37.78306484222412,\n",
       "  37.88396501541138,\n",
       "  37.77486610412598,\n",
       "  37.92073440551758,\n",
       "  37.18760299682617,\n",
       "  38.02897071838379,\n",
       "  39.24775171279907,\n",
       "  38.90431833267212,\n",
       "  37.67048931121826,\n",
       "  38.34629011154175,\n",
       "  37.984684467315674,\n",
       "  38.05464506149292,\n",
       "  39.22562122344971,\n",
       "  38.9063196182251,\n",
       "  38.88241243362427,\n",
       "  38.06180381774902,\n",
       "  36.551854610443115,\n",
       "  37.84132432937622,\n",
       "  38.4996018409729,\n",
       "  37.62055158615112,\n",
       "  36.77204656600952,\n",
       "  44.68483066558838,\n",
       "  38.00710201263428,\n",
       "  37.20641231536865,\n",
       "  38.620243072509766,\n",
       "  38.85864543914795,\n",
       "  41.72278594970703,\n",
       "  49.121686935424805,\n",
       "  39.95939922332764,\n",
       "  38.76847791671753,\n",
       "  40.90215492248535,\n",
       "  39.03301429748535,\n",
       "  37.14771747589111,\n",
       "  38.11510515213013,\n",
       "  37.524048805236816,\n",
       "  37.07977342605591,\n",
       "  39.22746992111206,\n",
       "  38.005067348480225,\n",
       "  38.399213790893555,\n",
       "  37.743257999420166,\n",
       "  39.239323139190674,\n",
       "  38.850890159606934,\n",
       "  46.615220069885254,\n",
       "  42.14564561843872,\n",
       "  39.37899351119995,\n",
       "  38.23766803741455,\n",
       "  40.55827713012695]}"
      ]
     },
     "execution_count": 96,
     "metadata": {},
     "output_type": "execute_result"
    }
   ],
   "source": [
    "history.history"
   ]
  },
  {
   "cell_type": "code",
   "execution_count": 97,
   "metadata": {},
   "outputs": [
    {
     "data": {
      "text/plain": [
       "[342.91639073689777,\n",
       " 190.96595509847006,\n",
       " 126.58495044708252,\n",
       " 96.99082501729329,\n",
       " 87.35074361165364,\n",
       " 82.00296688079834,\n",
       " 75.45868460337321,\n",
       " 71.83833567301433,\n",
       " 70.43837396303813,\n",
       " 68.97678629557292,\n",
       " 69.76152801513672,\n",
       " 67.67764091491699,\n",
       " 66.4915582338969,\n",
       " 65.30295419692993,\n",
       " 64.63210233052571,\n",
       " 60.771044413248696,\n",
       " 66.6203540166219,\n",
       " 56.849200089772545,\n",
       " 61.809296449025474,\n",
       " 62.383349100748696,\n",
       " 62.36900822321574,\n",
       " 59.88281178474426,\n",
       " 58.32865238189697,\n",
       " 57.40733655293783,\n",
       " 56.68204673131307,\n",
       " 57.40256150563558,\n",
       " 54.21955521901449,\n",
       " 52.31430848439535,\n",
       " 51.53387721379598,\n",
       " 52.08818689982096,\n",
       " 52.525094985961914,\n",
       " 51.02952257792155,\n",
       " 51.018221060434975,\n",
       " 49.619771798451744,\n",
       " 50.14012813568115,\n",
       " 50.047361532847084,\n",
       " 48.96723477045695,\n",
       " 45.82097880045573,\n",
       " 47.125127951304115,\n",
       " 49.80625629425049,\n",
       " 48.17972739537557,\n",
       " 52.87158219019572,\n",
       " 44.80911445617676,\n",
       " 44.20755624771118,\n",
       " 41.50920009613037,\n",
       " 41.641368548075356,\n",
       " 42.885798931121826,\n",
       " 41.76032670338949,\n",
       " 38.64163319269816,\n",
       " 39.56068277359009,\n",
       " 40.11221249898275,\n",
       " 40.05151335398356,\n",
       " 35.56776666641235,\n",
       " 37.303865591684975,\n",
       " 36.89076058069865,\n",
       " 35.09979804356893,\n",
       " 35.58756240208944,\n",
       " 36.506404876708984,\n",
       " 35.64132531483968,\n",
       " 32.80296834309896,\n",
       " 37.52220058441162,\n",
       " 34.0006750424703,\n",
       " 33.78086614608765,\n",
       " 36.17379848162333,\n",
       " 33.478464682896934,\n",
       " 33.369293451309204,\n",
       " 34.050224939982094,\n",
       " 35.24534591039022,\n",
       " 33.16051618258158,\n",
       " 33.74372545878092,\n",
       " 34.21753787994385,\n",
       " 34.49201154708862,\n",
       " 33.13305417696635,\n",
       " 31.903175989786785,\n",
       " 34.438944816589355,\n",
       " 32.82590341567993,\n",
       " 32.45007292429606,\n",
       " 28.70942449569702,\n",
       " 33.24011588096619,\n",
       " 32.60808801651001,\n",
       " 31.60933001836141,\n",
       " 32.49068737030029,\n",
       " 30.539594968159992,\n",
       " 31.93608283996582,\n",
       " 30.191242535909016,\n",
       " 32.81023406982422,\n",
       " 29.844277143478394,\n",
       " 31.98907009760539,\n",
       " 30.94318683942159,\n",
       " 31.709272066752117,\n",
       " 31.329172213872273,\n",
       " 30.40712634722392,\n",
       " 31.459389209747314,\n",
       " 30.273070017496746,\n",
       " 31.490898450215656,\n",
       " 29.86091136932373,\n",
       " 29.307380437850952,\n",
       " 32.32975618044535,\n",
       " 31.47294330596924,\n",
       " 27.399449427922566,\n",
       " 30.547269980112713,\n",
       " 28.083396593729656,\n",
       " 30.171786546707153,\n",
       " 29.330307483673096,\n",
       " 29.178895155588787,\n",
       " 29.59840178489685,\n",
       " 27.63455041249593,\n",
       " 29.294243892033894,\n",
       " 28.46872345606486,\n",
       " 32.47580647468567,\n",
       " 34.181928634643555,\n",
       " 33.251091639200844,\n",
       " 34.94908666610718,\n",
       " 32.08931922912598,\n",
       " 28.4000145594279,\n",
       " 27.494834105173748,\n",
       " 25.58451731999715,\n",
       " 26.54571262995402,\n",
       " 28.199066559473675,\n",
       " 27.55751625696818,\n",
       " 28.099289417266846,\n",
       " 27.9029122988383,\n",
       " 28.437833229700725,\n",
       " 27.187198797861736,\n",
       " 26.40407331784566,\n",
       " 26.55807288487752,\n",
       " 26.15209682782491,\n",
       " 27.10508330663045,\n",
       " 27.870983680089314,\n",
       " 27.526257673899334,\n",
       " 27.14375631014506,\n",
       " 26.932920932769775,\n",
       " 26.68707211812337,\n",
       " 25.6814063390096,\n",
       " 25.372239192326862,\n",
       " 25.597129503885906,\n",
       " 27.731542269388836,\n",
       " 26.656049013137817,\n",
       " 25.550529718399048,\n",
       " 25.750561475753784,\n",
       " 25.808834552764893,\n",
       " 24.553452253341675,\n",
       " 26.331483523050945,\n",
       " 25.815318028132122,\n",
       " 25.80394172668457,\n",
       " 24.426992495854694,\n",
       " 25.67007366816203,\n",
       " 24.805219809214275,\n",
       " 24.74623131752014,\n",
       " 24.31547959645589,\n",
       " 23.418965101242065,\n",
       " 23.765828847885132,\n",
       " 21.82986815770467,\n",
       " 24.274658521016438,\n",
       " 23.358144124348957,\n",
       " 23.933168093363445,\n",
       " 23.91480779647827,\n",
       " 24.513888597488403,\n",
       " 23.207216103871662,\n",
       " 22.04347324371338,\n",
       " 24.232713381449383,\n",
       " 22.950700839360554,\n",
       " 22.46421281496684,\n",
       " 23.257654269536335,\n",
       " 22.39903251330058,\n",
       " 24.928793748219807,\n",
       " 23.37824058532715,\n",
       " 24.951751629511516,\n",
       " 22.1380516688029,\n",
       " 23.657701015472412,\n",
       " 20.932996034622192,\n",
       " 22.09330177307129,\n",
       " 22.902438799540203,\n",
       " 21.34516219298045,\n",
       " 21.497169335683186,\n",
       " 21.11212666829427,\n",
       " 21.77947211265564,\n",
       " 21.486860354741413,\n",
       " 20.304829676946003,\n",
       " 21.487404584884644,\n",
       " 23.560848474502563,\n",
       " 22.702885389328003,\n",
       " 21.602694352467854,\n",
       " 22.844457149505615,\n",
       " 24.248778422673542,\n",
       " 21.332885424296062,\n",
       " 20.159910758336384,\n",
       " 21.080252250035603,\n",
       " 20.399049758911133,\n",
       " 19.248035351435345,\n",
       " 19.61605699857076,\n",
       " 22.35079900423686,\n",
       " 20.506428003311157,\n",
       " 19.281675418217976,\n",
       " 19.326421578725178,\n",
       " 20.135527849197388,\n",
       " 21.068828741709392,\n",
       " 19.281996250152588,\n",
       " 19.61379114786784,\n",
       " 20.254706740379333]"
      ]
     },
     "execution_count": 97,
     "metadata": {},
     "output_type": "execute_result"
    }
   ],
   "source": [
    "history.history['loss']"
   ]
  },
  {
   "cell_type": "code",
   "execution_count": 99,
   "metadata": {},
   "outputs": [
    {
     "data": {
      "image/png": "[encoded data removed]",
      "text/plain": [
       "<Figure size 720x504 with 1 Axes>"
      ]
     },
     "metadata": {
      "needs_background": "dark"
     },
     "output_type": "display_data"
    }
   ],
   "source": [
    "# epoch당 loss, val_loss 변화에 대해 선그래프 그리기\n",
    "import matplotlib.pyplot as plt\n",
    "plt.figure(figsize = (10, 7))\n",
    "\n",
    "plt.plot(range(1, N_EPOCHS+1), history.history['loss'], label = 'Train loss')\n",
    "plt.plot(range(1, N_EPOCHS+1), history.history['val_loss'], label = 'Validation loss')\n",
    "\n",
    "plt.xticks(color = 'w')\n",
    "plt.yticks(color = 'w')\n",
    "plt.xlabel('Epochs', color = 'w')\n",
    "plt.ylabel('Loss(MSE)', color = 'w')\n",
    "\n",
    "plt.ylim(0, 90)\n",
    "plt.legend()\n",
    "plt.grid(True)\n",
    "plt.show()"
   ]
  },
  {
   "cell_type": "code",
   "execution_count": 100,
   "metadata": {},
   "outputs": [
    {
     "name": "stdout",
     "output_type": "stream",
     "text": [
      "4/4 [==============================] - 0s 7ms/step - loss: 40.5583\n"
     ]
    },
    {
     "data": {
      "text/plain": [
       "40.55827713012695"
      ]
     },
     "execution_count": 100,
     "metadata": {},
     "output_type": "execute_result"
    }
   ],
   "source": [
    "# 평가\n",
    "model.evaluate(val_dataset)"
   ]
  },
  {
   "cell_type": "markdown",
   "metadata": {},
   "source": [
    "## 2. Classification\n",
    "\n",
    "### Fashion MNIST(MNIST) Dataset - 다중 분류"
   ]
  },
  {
   "cell_type": "markdown",
   "metadata": {},
   "source": [
    "10개의 범주(category)와 70,000개의 흑백 이미지로 구성된 [패션 MNIST](https://github.com/zalandoresearch/fashion-mnist) 데이터셋. \n",
    "이미지는 해상도(28x28 픽셀)가 낮고 다음처럼 개별 의류 품목 나타냄:\n",
    "\n",
    "<table>\n",
    "  <tr><td>\n",
    "    <img src=\"https://tensorflow.org/images/fashion-mnist-sprite.png\"\n",
    "         alt=\"Fashion MNIST sprite\"  width=\"600\">\n",
    "  </td></tr>\n",
    "  <tr><td align=\"center\">\n",
    "    <b>그림</b> <a href=\"https://github.com/zalandoresearch/fashion-mnist\">패션-MNIST 샘플</a> (Zalando, MIT License).<br/>&nbsp;\n",
    "  </td></tr>\n",
    "</table>\n",
    "\n",
    "패션 MNIST와 손글씨 MNIST는  비교적 작기 때문에 알고리즘의 작동 여부를 확인하기 위해 사용되곤하며 코드를 테스트하고 디버깅하는 용도로 좋음"
   ]
  },
  {
   "cell_type": "markdown",
   "metadata": {},
   "source": [
    "이미지는 28x28 크기의 넘파이 배열이고 픽셀 값은 0과 255 사이. *레이블*(label)은 0에서 9까지의 정수 배열. 아래 표는 이미지에 있는 의류의 **클래스**(class)를 나타냄.\n",
    "\n",
    "<table>\n",
    "  <tr>\n",
    "    <th>레이블</th>\n",
    "    <th>클래스</th>\n",
    "  </tr>\n",
    "  <tr>\n",
    "    <td>0</td>\n",
    "    <td>T-shirt/top</td>\n",
    "  </tr>\n",
    "  <tr>\n",
    "    <td>1</td>\n",
    "    <td>Trousers</td>\n",
    "  </tr>\n",
    "    <tr>\n",
    "    <td>2</td>\n",
    "    <td>Pullover</td>\n",
    "  </tr>\n",
    "    <tr>\n",
    "    <td>3</td>\n",
    "    <td>Dress</td>\n",
    "  </tr>\n",
    "    <tr>\n",
    "    <td>4</td>\n",
    "    <td>Coat</td>\n",
    "  </tr>\n",
    "    <tr>\n",
    "    <td>5</td>\n",
    "    <td>Sandal</td>\n",
    "  </tr>\n",
    "    <tr>\n",
    "    <td>6</td>\n",
    "    <td>Shirt</td>\n",
    "  </tr>\n",
    "    <tr>\n",
    "    <td>7</td>\n",
    "    <td>Sneaker</td>\n",
    "  </tr>\n",
    "    <tr>\n",
    "    <td>8</td>\n",
    "    <td>Bag</td>\n",
    "  </tr>\n",
    "    <tr>\n",
    "    <td>9</td>\n",
    "    <td>Ankle boot</td>\n",
    "  </tr>\n",
    "</table>\n",
    "\n",
    "각 이미지는 하나의 레이블에 매핑되어 있다. 데이터셋에 클래스 이름이 들어있지 않기 때문에 나중에 이미지를 출력할 때 사용하기 위해 별도의 변수를 만들어 저장한다."
   ]
  },
  {
   "cell_type": "code",
   "execution_count": 102,
   "metadata": {},
   "outputs": [],
   "source": [
    "class_names = ['T-shirt/top', 'Trousers', 'Pullover', 'Dress', 'Coat', 'Sandal', 'Shirt', 'Sneaker', 'Bag', 'Ankle boot']"
   ]
  },
  {
   "cell_type": "code",
   "execution_count": 103,
   "metadata": {},
   "outputs": [
    {
     "data": {
      "text/plain": [
       "'Pullover'"
      ]
     },
     "execution_count": 103,
     "metadata": {},
     "output_type": "execute_result"
    }
   ],
   "source": [
    "pred = 2\n",
    "class_names[pred]"
   ]
  },
  {
   "cell_type": "code",
   "execution_count": 104,
   "metadata": {},
   "outputs": [],
   "source": [
    "import numpy as np\n",
    "import tensorflow as tf\n",
    "from tensorflow import keras\n",
    "\n",
    "np.random.seed(1)\n",
    "tf.random.set_seed(1)"
   ]
  },
  {
   "cell_type": "code",
   "execution_count": 107,
   "metadata": {},
   "outputs": [],
   "source": [
    "# 데이터셋 읽기\n",
    "(X_train, y_train), (X_test, y_test) = keras.datasets.fashion_mnist.load_data()"
   ]
  },
  {
   "cell_type": "code",
   "execution_count": 108,
   "metadata": {},
   "outputs": [
    {
     "data": {
      "text/plain": [
       "((60000, 28, 28), (60000,), (10000, 28, 28), (10000,))"
      ]
     },
     "execution_count": 108,
     "metadata": {},
     "output_type": "execute_result"
    }
   ],
   "source": [
    "X_train.shape, y_train.shape, X_test.shape, y_test.shape"
   ]
  },
  {
   "cell_type": "code",
   "execution_count": 109,
   "metadata": {},
   "outputs": [
    {
     "data": {
      "text/plain": [
       "(array([0, 1, 2, 3, 4, 5, 6, 7, 8, 9], dtype=uint8),\n",
       " array([6000, 6000, 6000, 6000, 6000, 6000, 6000, 6000, 6000, 6000],\n",
       "       dtype=int64))"
      ]
     },
     "execution_count": 109,
     "metadata": {},
     "output_type": "execute_result"
    }
   ],
   "source": [
    "np.unique(y_train, return_counts = True)"
   ]
  },
  {
   "cell_type": "code",
   "execution_count": 110,
   "metadata": {},
   "outputs": [
    {
     "data": {
      "text/plain": [
       "(array([0, 1, 2, 3, 4, 5, 6, 7, 8, 9], dtype=uint8),\n",
       " array([1000, 1000, 1000, 1000, 1000, 1000, 1000, 1000, 1000, 1000],\n",
       "       dtype=int64))"
      ]
     },
     "execution_count": 110,
     "metadata": {},
     "output_type": "execute_result"
    }
   ],
   "source": [
    "np.unique(y_test, return_counts = True)"
   ]
  },
  {
   "cell_type": "code",
   "execution_count": 113,
   "metadata": {},
   "outputs": [
    {
     "data": {
      "image/png": "[encoded data removed]",
      "text/plain": [
       "<Figure size 1080x1080 with 25 Axes>"
      ]
     },
     "metadata": {
      "needs_background": "light"
     },
     "output_type": "display_data"
    }
   ],
   "source": [
    "# 이미지 확인\n",
    "import matplotlib.pyplot as pt\n",
    "plt.figure(figsize = (15, 15))\n",
    "for i in range(25):\n",
    "    plt.subplot(5, 5, i + 1)\n",
    "    plt.imshow(X_train[i], cmap = 'gray')\n",
    "    plt.title(class_names[y_train[i]], color = 'w')\n",
    "    \n",
    "plt.tight_layout()\n",
    "plt.show()"
   ]
  },
  {
   "cell_type": "code",
   "execution_count": 111,
   "metadata": {},
   "outputs": [],
   "source": [
    "# 하이퍼파라미터 설정\n",
    "LEARNING_RATE = 0.001\n",
    "N_EPOCHS = 50\n",
    "N_BATCHS = 100\n",
    "\n",
    "N_CLASS = 10  # CLASS CATEGORY 개수\n",
    "N_TRAIN = X_train.shape[0]\n",
    "N_TEST = X_test.shape[0]\n",
    "IMAGE_SIZE = 28"
   ]
  },
  {
   "cell_type": "code",
   "execution_count": 115,
   "metadata": {},
   "outputs": [],
   "source": [
    "# 데이터 전처리\n",
    "# X(이미지): 0 ~ 255 => 0 ~ 1\n",
    "X_train = X_train/255\n",
    "X_test = X_test/255\n",
    "\n",
    "np.max(X_train), np.min(X_train)\n",
    "\n",
    "# Y (Label) => 다중분류: OneHotEncoding\n",
    "y_train = keras.utils.to_categorical(y_train)\n",
    "y_test = keras.utils.to_categorical(y_test)"
   ]
  },
  {
   "cell_type": "code",
   "execution_count": 116,
   "metadata": {},
   "outputs": [
    {
     "data": {
      "text/plain": [
       "(1.0, 0.0)"
      ]
     },
     "execution_count": 116,
     "metadata": {},
     "output_type": "execute_result"
    }
   ],
   "source": [
    "np.max(X_train), np.min(X_train)"
   ]
  },
  {
   "cell_type": "code",
   "execution_count": 117,
   "metadata": {},
   "outputs": [
    {
     "data": {
      "text/plain": [
       "(10000, 10)"
      ]
     },
     "execution_count": 117,
     "metadata": {},
     "output_type": "execute_result"
    }
   ],
   "source": [
    "y_test.shape"
   ]
  },
  {
   "cell_type": "code",
   "execution_count": 118,
   "metadata": {},
   "outputs": [
    {
     "data": {
      "text/plain": [
       "array([[0., 0., 0., 0., 0., 0., 0., 0., 0., 1.],\n",
       "       [0., 0., 1., 0., 0., 0., 0., 0., 0., 0.]], dtype=float32)"
      ]
     },
     "execution_count": 118,
     "metadata": {},
     "output_type": "execute_result"
    }
   ],
   "source": [
    "y_test[:2]"
   ]
  },
  {
   "cell_type": "code",
   "execution_count": 119,
   "metadata": {},
   "outputs": [],
   "source": [
    "# Dataset\n",
    "train_dataset = tf.data.Dataset.from_tensor_slices((X_train, y_train))\\\n",
    "                               .shuffle(N_TRAIN)\\\n",
    "                               .batch(N_BATCHS, drop_remainder = True)\\\n",
    "                               .repeat()"
   ]
  },
  {
   "cell_type": "code",
   "execution_count": 120,
   "metadata": {},
   "outputs": [],
   "source": [
    "val_dataset = tf.data.Dataset.from_tensor_slices((X_test, y_test)).batch(N_BATCHS)"
   ]
  },
  {
   "cell_type": "code",
   "execution_count": null,
   "metadata": {},
   "outputs": [],
   "source": [
    "# from tensorflow.keras.layers import Flatten, Dense, Input\n",
    "\n",
    "# model.add(Input(28, 28))\n",
    "# model.add(Dense(...))"
   ]
  },
  {
   "cell_type": "code",
   "execution_count": 121,
   "metadata": {},
   "outputs": [],
   "source": [
    "# 모델 구현\n",
    "def create_model():\n",
    "    model = keras.Sequential()\n",
    "    \n",
    "    # 입력층(Input Layer)\n",
    "    # model.add(keras.layers.input((28*28,)))\n",
    "    \n",
    "    # mode.add(keras.layers.Flatten(input_shape = (28, 28)))\n",
    "    model.add(keras.layers.Input((28, 28)))\n",
    "    model.add(keras.layers.Flatten())\n",
    "    \n",
    "    # 은닉층(Hidden Layer)\n",
    "    model.add(keras.layers.Dense(256, activation = 'relu'))\n",
    "    model.add(keras.layers.Dense(128, activation = 'relu'))\n",
    "    model.add(keras.layers.Dense(64, activation = 'relu'))\n",
    "    \n",
    "    # 출력층(Output Layer)\n",
    "    # 다중 분류: units - class category 개수, activation-softmax => 각 class별 확률\n",
    "    model.add(keras.layers.Dense(N_CLASS, activation = 'softmax'))\n",
    "    \n",
    "    # 컴파일. 다중분류: Loss-categorical_crossentropy(y를 one_hot_encoding 한 경우)\n",
    "    #                sparse_categorical_crossentropy(y를 one_hot_encoding 안한 경우)\n",
    "    model.compile(optimizer = keras.optimizers.Adam(learning_rate = LEARNING_RATE),\n",
    "                 loss = 'categorical_crossentropy',\n",
    "                 metrics = ['accuracy'])\n",
    "    \n",
    "    return model"
   ]
  },
  {
   "cell_type": "code",
   "execution_count": 122,
   "metadata": {},
   "outputs": [
    {
     "name": "stdout",
     "output_type": "stream",
     "text": [
      "Model: \"sequential_4\"\n",
      "_________________________________________________________________\n",
      "Layer (type)                 Output Shape              Param #   \n",
      "=================================================================\n",
      "flatten (Flatten)            (None, 784)               0         \n",
      "_________________________________________________________________\n",
      "dense_10 (Dense)             (None, 256)               200960    \n",
      "_________________________________________________________________\n",
      "dense_11 (Dense)             (None, 128)               32896     \n",
      "_________________________________________________________________\n",
      "dense_12 (Dense)             (None, 64)                8256      \n",
      "_________________________________________________________________\n",
      "dense_13 (Dense)             (None, 10)                650       \n",
      "=================================================================\n",
      "Total params: 242,762\n",
      "Trainable params: 242,762\n",
      "Non-trainable params: 0\n",
      "_________________________________________________________________\n"
     ]
    }
   ],
   "source": [
    "model = create_model()\n",
    "model.summary()"
   ]
  },
  {
   "cell_type": "code",
   "execution_count": 123,
   "metadata": {},
   "outputs": [
    {
     "data": {
      "image/png": "[encoded data removed]",
      "text/plain": [
       "<IPython.core.display.Image object>"
      ]
     },
     "execution_count": 123,
     "metadata": {},
     "output_type": "execute_result"
    }
   ],
   "source": [
    "from tensorflow.keras.utils import plot_model\n",
    "plot_model(model, to_file = 'fashion_mnist_model.png', show_shapes = True)"
   ]
  },
  {
   "cell_type": "code",
   "execution_count": 125,
   "metadata": {},
   "outputs": [
    {
     "name": "stdout",
     "output_type": "stream",
     "text": [
      "600 100\n"
     ]
    }
   ],
   "source": [
    "# 학습\n",
    "## epoch당 steps 수 계산\n",
    "steps_per_epoch = N_TRAIN // N_BATCHS\n",
    "validation_steps = int(np.ceil(N_TEST / N_BATCHS))\n",
    "print(steps_per_epoch, validation_steps)"
   ]
  },
  {
   "cell_type": "code",
   "execution_count": 126,
   "metadata": {},
   "outputs": [
    {
     "name": "stdout",
     "output_type": "stream",
     "text": [
      "Train for 600 steps, validate for 100 steps\n",
      "Epoch 1/50\n",
      "600/600 [==============================] - 9s 15ms/step - loss: 0.5262 - accuracy: 0.8147 - val_loss: 0.4183 - val_accuracy: 0.8510\n",
      "Epoch 2/50\n",
      "600/600 [==============================] - 7s 12ms/step - loss: 0.3698 - accuracy: 0.8647 - val_loss: 0.4007 - val_accuracy: 0.8556\n",
      "Epoch 3/50\n",
      "600/600 [==============================] - 7s 12ms/step - loss: 0.3311 - accuracy: 0.8796 - val_loss: 0.3616 - val_accuracy: 0.8687\n",
      "Epoch 4/50\n",
      "600/600 [==============================] - 8s 13ms/step - loss: 0.3071 - accuracy: 0.8877 - val_loss: 0.3538 - val_accuracy: 0.8710\n",
      "Epoch 5/50\n",
      "600/600 [==============================] - 7s 12ms/step - loss: 0.2882 - accuracy: 0.8924 - val_loss: 0.3411 - val_accuracy: 0.8732\n",
      "Epoch 6/50\n",
      "600/600 [==============================] - 7s 12ms/step - loss: 0.2721 - accuracy: 0.8981 - val_loss: 0.3318 - val_accuracy: 0.8806\n",
      "Epoch 7/50\n",
      "600/600 [==============================] - 8s 14ms/step - loss: 0.2589 - accuracy: 0.9033 - val_loss: 0.3354 - val_accuracy: 0.8749\n",
      "Epoch 8/50\n",
      "600/600 [==============================] - 7s 12ms/step - loss: 0.2527 - accuracy: 0.9055 - val_loss: 0.3245 - val_accuracy: 0.8820\n",
      "Epoch 9/50\n",
      "600/600 [==============================] - 7s 12ms/step - loss: 0.2382 - accuracy: 0.9106 - val_loss: 0.3365 - val_accuracy: 0.8780\n",
      "Epoch 10/50\n",
      "600/600 [==============================] - 7s 12ms/step - loss: 0.2267 - accuracy: 0.9147 - val_loss: 0.3282 - val_accuracy: 0.8869\n",
      "Epoch 11/50\n",
      "600/600 [==============================] - 7s 12ms/step - loss: 0.2235 - accuracy: 0.9147 - val_loss: 0.3301 - val_accuracy: 0.8842\n",
      "Epoch 12/50\n",
      "600/600 [==============================] - 7s 12ms/step - loss: 0.2143 - accuracy: 0.9181 - val_loss: 0.3477 - val_accuracy: 0.8809\n",
      "Epoch 13/50\n",
      "600/600 [==============================] - 7s 12ms/step - loss: 0.2034 - accuracy: 0.9224 - val_loss: 0.3300 - val_accuracy: 0.8840\n",
      "Epoch 14/50\n",
      "600/600 [==============================] - 8s 13ms/step - loss: 0.1977 - accuracy: 0.9249 - val_loss: 0.3374 - val_accuracy: 0.8851\n",
      "Epoch 15/50\n",
      "600/600 [==============================] - 8s 13ms/step - loss: 0.1912 - accuracy: 0.9271 - val_loss: 0.3306 - val_accuracy: 0.8877\n",
      "Epoch 16/50\n",
      "600/600 [==============================] - 8s 13ms/step - loss: 0.1845 - accuracy: 0.9293 - val_loss: 0.3621 - val_accuracy: 0.8889\n",
      "Epoch 17/50\n",
      "600/600 [==============================] - 8s 13ms/step - loss: 0.1790 - accuracy: 0.9318 - val_loss: 0.3539 - val_accuracy: 0.8857\n",
      "Epoch 18/50\n",
      "600/600 [==============================] - 8s 13ms/step - loss: 0.1725 - accuracy: 0.9343 - val_loss: 0.3478 - val_accuracy: 0.8877\n",
      "Epoch 19/50\n",
      "600/600 [==============================] - 8s 13ms/step - loss: 0.1672 - accuracy: 0.9359 - val_loss: 0.3405 - val_accuracy: 0.8873\n",
      "Epoch 20/50\n",
      "600/600 [==============================] - 8s 13ms/step - loss: 0.1633 - accuracy: 0.9360 - val_loss: 0.3509 - val_accuracy: 0.8948\n",
      "Epoch 21/50\n",
      "600/600 [==============================] - 8s 13ms/step - loss: 0.1556 - accuracy: 0.9401 - val_loss: 0.3803 - val_accuracy: 0.8813\n",
      "Epoch 22/50\n",
      "600/600 [==============================] - 8s 14ms/step - loss: 0.1525 - accuracy: 0.9414 - val_loss: 0.3401 - val_accuracy: 0.8946\n",
      "Epoch 23/50\n",
      "600/600 [==============================] - 8s 13ms/step - loss: 0.1466 - accuracy: 0.9430 - val_loss: 0.3922 - val_accuracy: 0.8851\n",
      "Epoch 24/50\n",
      "600/600 [==============================] - 8s 13ms/step - loss: 0.1436 - accuracy: 0.9453 - val_loss: 0.3995 - val_accuracy: 0.8899\n",
      "Epoch 25/50\n",
      "600/600 [==============================] - 8s 13ms/step - loss: 0.1417 - accuracy: 0.9453 - val_loss: 0.3654 - val_accuracy: 0.8949\n",
      "Epoch 26/50\n",
      "600/600 [==============================] - 8s 14ms/step - loss: 0.1323 - accuracy: 0.9493 - val_loss: 0.4003 - val_accuracy: 0.8916\n",
      "Epoch 27/50\n",
      "600/600 [==============================] - 9s 15ms/step - loss: 0.1297 - accuracy: 0.9501 - val_loss: 0.4293 - val_accuracy: 0.8923\n",
      "Epoch 28/50\n",
      "600/600 [==============================] - 9s 15ms/step - loss: 0.1276 - accuracy: 0.9516 - val_loss: 0.4034 - val_accuracy: 0.8971\n",
      "Epoch 29/50\n",
      "600/600 [==============================] - 10s 16ms/step - loss: 0.1249 - accuracy: 0.9513 - val_loss: 0.3870 - val_accuracy: 0.8913\n",
      "Epoch 30/50\n",
      "600/600 [==============================] - 9s 15ms/step - loss: 0.1195 - accuracy: 0.9535 - val_loss: 0.3868 - val_accuracy: 0.8906\n",
      "Epoch 31/50\n",
      "600/600 [==============================] - 9s 15ms/step - loss: 0.1174 - accuracy: 0.9548 - val_loss: 0.4211 - val_accuracy: 0.8959\n",
      "Epoch 32/50\n",
      "600/600 [==============================] - 9s 15ms/step - loss: 0.1132 - accuracy: 0.9560 - val_loss: 0.4397 - val_accuracy: 0.8926\n",
      "Epoch 33/50\n",
      "600/600 [==============================] - 9s 15ms/step - loss: 0.1082 - accuracy: 0.9576 - val_loss: 0.4448 - val_accuracy: 0.8898\n",
      "Epoch 34/50\n",
      "600/600 [==============================] - 9s 15ms/step - loss: 0.1032 - accuracy: 0.9600 - val_loss: 0.4688 - val_accuracy: 0.8922\n",
      "Epoch 35/50\n",
      "600/600 [==============================] - 8s 13ms/step - loss: 0.1084 - accuracy: 0.9582 - val_loss: 0.4294 - val_accuracy: 0.8899\n",
      "Epoch 36/50\n",
      "600/600 [==============================] - 8s 13ms/step - loss: 0.1021 - accuracy: 0.9606 - val_loss: 0.4815 - val_accuracy: 0.8844\n",
      "Epoch 37/50\n",
      "600/600 [==============================] - 8s 13ms/step - loss: 0.0966 - accuracy: 0.9624 - val_loss: 0.4563 - val_accuracy: 0.8874\n",
      "Epoch 38/50\n",
      "600/600 [==============================] - 9s 15ms/step - loss: 0.1015 - accuracy: 0.9608 - val_loss: 0.5053 - val_accuracy: 0.8905 accuracy: 0.\n",
      "Epoch 39/50\n",
      "600/600 [==============================] - 9s 15ms/step - loss: 0.0958 - accuracy: 0.9627 - val_loss: 0.4895 - val_accuracy: 0.8918\n",
      "Epoch 40/50\n",
      "600/600 [==============================] - 9s 14ms/step - loss: 0.0951 - accuracy: 0.9634 - val_loss: 0.4943 - val_accuracy: 0.8849- loss: 0.0951 - accuracy: 0.96\n",
      "Epoch 41/50\n",
      "600/600 [==============================] - 9s 14ms/step - loss: 0.0900 - accuracy: 0.9653 - val_loss: 0.5013 - val_accuracy: 0.8906 1s - loss: 0\n",
      "Epoch 42/50\n",
      "600/600 [==============================] - 9s 15ms/step - loss: 0.0871 - accuracy: 0.9668 - val_loss: 0.5356 - val_accuracy: 0.8885\n",
      "Epoch 43/50\n",
      "600/600 [==============================] - 9s 16ms/step - loss: 0.0878 - accuracy: 0.9662 - val_loss: 0.5310 - val_accuracy: 0.8891\n",
      "Epoch 44/50\n",
      "600/600 [==============================] - 9s 16ms/step - loss: 0.0839 - accuracy: 0.9681 - val_loss: 0.5135 - val_accuracy: 0.8929\n",
      "Epoch 45/50\n",
      "600/600 [==============================] - 9s 16ms/step - loss: 0.0804 - accuracy: 0.9693 - val_loss: 0.5563 - val_accuracy: 0.8879\n",
      "Epoch 46/50\n",
      "600/600 [==============================] - 9s 14ms/step - loss: 0.0787 - accuracy: 0.9697 - val_loss: 0.5017 - val_accuracy: 0.8940\n",
      "Epoch 47/50\n",
      "600/600 [==============================] - 9s 15ms/step - loss: 0.0816 - accuracy: 0.9689 - val_loss: 0.5588 - val_accuracy: 0.8954\n",
      "Epoch 48/50\n",
      "600/600 [==============================] - 9s 14ms/step - loss: 0.0780 - accuracy: 0.9688 - val_loss: 0.5252 - val_accuracy: 0.8930\n",
      "Epoch 49/50\n",
      "600/600 [==============================] - 9s 14ms/step - loss: 0.0778 - accuracy: 0.9700 - val_loss: 0.6065 - val_accuracy: 0.8887\n",
      "Epoch 50/50\n",
      "600/600 [==============================] - 9s 14ms/step - loss: 0.0751 - accuracy: 0.9709 - val_loss: 0.5527 - val_accuracy: 0.8908\n"
     ]
    }
   ],
   "source": [
    "# 학습\n",
    "history = model.fit(train_dataset,\n",
    "                    epochs = N_EPOCHS,\n",
    "                    steps_per_epoch = steps_per_epoch,\n",
    "                    validation_data = val_dataset,\n",
    "                    validation_steps = validation_steps)"
   ]
  },
  {
   "cell_type": "code",
   "execution_count": 127,
   "metadata": {},
   "outputs": [
    {
     "name": "stdout",
     "output_type": "stream",
     "text": [
      "100/100 [==============================] - 0s 5ms/step - loss: 0.5527 - accuracy: 0.8908\n"
     ]
    },
    {
     "data": {
      "text/plain": [
       "[0.5527272379398346, 0.8908]"
      ]
     },
     "execution_count": 127,
     "metadata": {},
     "output_type": "execute_result"
    }
   ],
   "source": [
    "# 평가 - test set (마지막에 1번)\n",
    "model.evaluate(val_dataset)"
   ]
  },
  {
   "cell_type": "code",
   "execution_count": null,
   "metadata": {},
   "outputs": [],
   "source": [
    "# 결과 시각화 (Loss와 지정한 평가지표의 epoch당 변화 시각화) => 선그래프"
   ]
  },
  {
   "cell_type": "code",
   "execution_count": 128,
   "metadata": {},
   "outputs": [
    {
     "data": {
      "text/plain": [
       "dict_keys(['loss', 'accuracy', 'val_loss', 'val_accuracy'])"
      ]
     },
     "execution_count": 128,
     "metadata": {},
     "output_type": "execute_result"
    }
   ],
   "source": [
    "history.history.keys()"
   ]
  },
  {
   "cell_type": "code",
   "execution_count": 130,
   "metadata": {},
   "outputs": [
    {
     "data": {
      "image/png": "[encoded data removed]",
      "text/plain": [
       "<Figure size 1080x720 with 2 Axes>"
      ]
     },
     "metadata": {
      "needs_background": "light"
     },
     "output_type": "display_data"
    }
   ],
   "source": [
    "plt.figure(figsize = (15, 10))\n",
    "plt.subplot(1, 2, 1)\n",
    "\n",
    "plt.plot(range(1, N_EPOCHS+1), history.history['loss'], label = 'train loss')\n",
    "plt.plot(range(1, N_EPOCHS+1), history.history['val_loss'], label = 'validation loss')\n",
    "plt.title('LOSS')\n",
    "plt.legend()\n",
    "\n",
    "plt.subplot(1, 2, 2)\n",
    "plt.plot(range(1, N_EPOCHS+1), history.history['accuracy'], label = 'train accuracy')\n",
    "plt.plot(range(1, N_EPOCHS+1), history.history['val_accuracy'], label = 'validation accuracy')\n",
    "plt.title('ACCURACY')\n",
    "plt.legend()\n",
    "\n",
    "plt.tight_layout()\n",
    "plt.show()"
   ]
  },
  {
   "cell_type": "markdown",
   "metadata": {},
   "source": [
    "## IMDB 감성분성\n",
    "### 이진분류(Binary Classification)\n",
    "- 영화 댓글: 부정(0)/긍정(1)"
   ]
  },
  {
   "cell_type": "code",
   "execution_count": 3,
   "metadata": {},
   "outputs": [],
   "source": [
    "import pickle\n",
    "\n",
    "# 데이터 로드\n",
    "with open('imdb_dataset/x_train.pkl', 'rb') as f:\n",
    "    X_train = pickle.load(f)\n",
    "\n",
    "with open('imdb_dataset/x_test.pkl', 'rb') as f:\n",
    "    X_test = pickle.load(f)\n",
    "    \n",
    "with open('imdb_dataset/y_train.pkl', 'rb') as f:\n",
    "    y_train = pickle.load(f)\n",
    "    \n",
    "with open('imdb_dataset/y_test.pkl', 'rb') as f:\n",
    "    y_test = pickle.load(f)"
   ]
  },
  {
   "cell_type": "code",
   "execution_count": 4,
   "metadata": {},
   "outputs": [
    {
     "data": {
      "text/plain": [
       "'day lead think even think boy young men commit mutual suicide slaughter classmate capture bizarre mode human decide withdraw common civility order define mutual world couple destruction perfect movie give money time filmmaker actor remarkable product term explain motif action young suicide murderer well elephant term film get rationalistic skin far far well film almost anything likely see flaw honest terrible honesty'"
      ]
     },
     "execution_count": 4,
     "metadata": {},
     "output_type": "execute_result"
    }
   ],
   "source": [
    "X_train[0]"
   ]
  },
  {
   "cell_type": "code",
   "execution_count": 5,
   "metadata": {},
   "outputs": [
    {
     "data": {
      "text/plain": [
       "array([1, 0, 1, 0, 0])"
      ]
     },
     "execution_count": 5,
     "metadata": {},
     "output_type": "execute_result"
    }
   ],
   "source": [
    "y_train[:5]"
   ]
  },
  {
   "cell_type": "code",
   "execution_count": 16,
   "metadata": {},
   "outputs": [],
   "source": [
    "# X -> 벡터화(숫자 변경)\n",
    "from sklearn.feature_extraction.text import TfidfVectorizer\n",
    "tfidf = TfidfVectorizer(max_features = 10000)\n",
    "tfidf.fit(X_train + X_test)\n",
    "X_train_tfidf = tfidf.transform(X_train)\n",
    "X_test_tfidf = tfidf.transform(X_test)"
   ]
  },
  {
   "cell_type": "code",
   "execution_count": 17,
   "metadata": {},
   "outputs": [
    {
     "data": {
      "text/plain": [
       "((25000, 10000), (25000, 10000))"
      ]
     },
     "execution_count": 17,
     "metadata": {},
     "output_type": "execute_result"
    }
   ],
   "source": [
    "X_train_tfidf.shape, X_test_tfidf.shape"
   ]
  },
  {
   "cell_type": "code",
   "execution_count": 18,
   "metadata": {},
   "outputs": [
    {
     "data": {
      "text/plain": [
       "<25000x10000 sparse matrix of type '<class 'numpy.float64'>'\n",
       "\twith 2055897 stored elements in Compressed Sparse Row format>"
      ]
     },
     "execution_count": 18,
     "metadata": {},
     "output_type": "execute_result"
    }
   ],
   "source": [
    "X_train_tfidf"
   ]
  },
  {
   "cell_type": "code",
   "execution_count": 19,
   "metadata": {},
   "outputs": [
    {
     "data": {
      "text/plain": [
       "(25000,)"
      ]
     },
     "execution_count": 19,
     "metadata": {},
     "output_type": "execute_result"
    }
   ],
   "source": [
    "y_train.shape"
   ]
  },
  {
   "cell_type": "code",
   "execution_count": 20,
   "metadata": {},
   "outputs": [],
   "source": [
    "# 하이퍼파라미터 설정\n",
    "LEARNING_RATE = 0.001\n",
    "N_EPOCHS = 10\n",
    "N_BATCHS = 50\n",
    "\n",
    "N_TRAIN = X_train_tfidf.shape[0]\n",
    "N_TEST = X_test_tfidf.shape[0]\n",
    "N_FEATURE = X_train_tfidf.shape[1]"
   ]
  },
  {
   "cell_type": "code",
   "execution_count": 21,
   "metadata": {},
   "outputs": [],
   "source": [
    "# Dataset 생성 - y: 이진분류 - one hot-encoding(X)\n",
    "# Sparase Matrix => ndarray\n",
    "train_dataset = tf.data.Dataset.from_tensor_slices((X_train_tfidf.toarray(), y_train))\\\n",
    "                               .shuffle(N_TRAIN)\\\n",
    "                               .batch(N_BATCHS, drop_remainder = True)\\\n",
    "                               .repeat()\n",
    "val_dataset = tf.data.Dataset.from_tensor_slices((X_test_tfidf.toarray(), y_test)).batch(N_BATCHS)"
   ]
  },
  {
   "cell_type": "code",
   "execution_count": 26,
   "metadata": {},
   "outputs": [],
   "source": [
    "# 모델 생성\n",
    "def create_model():\n",
    "    model = keras.Sequential()\n",
    "    \n",
    "    # Input layer\n",
    "    model.add(keras.layers.Input((N_FEATURE, )))\n",
    "    \n",
    "    # Hidden Layer\n",
    "    model.add(keras.layers.Dense(512, activation = 'relu'))\n",
    "    model.add(keras.layers.Dense(256, activation = 'relu'))\n",
    "    model.add(keras.layers.Dense(256, activation = 'relu'))\n",
    "    model.add(keras.layers.Dense(128, activation = 'relu'))\n",
    "    \n",
    "    # Output Layer: 이진분류 - units:1, activation = 'sigmoid'(Logistic 함수)\n",
    "    model.add(keras.layers.Dense(1, activation = 'sigmoid'))\n",
    "    \n",
    "    # 컴파일: 이진분류 - activation: sigmoid => Loss: binary_crossentropy\n",
    "    model.compile(optimizer = keras.optimizers.Adam(learning_rate = LEARNING_RATE),\n",
    "                  loss = 'binary_crossentropy',\n",
    "                  metrics = ['accuracy'])\n",
    "    \n",
    "    return model"
   ]
  },
  {
   "cell_type": "code",
   "execution_count": 27,
   "metadata": {},
   "outputs": [
    {
     "name": "stdout",
     "output_type": "stream",
     "text": [
      "Model: \"sequential_1\"\n",
      "_________________________________________________________________\n",
      "Layer (type)                 Output Shape              Param #   \n",
      "=================================================================\n",
      "dense_5 (Dense)              (None, 512)               5120512   \n",
      "_________________________________________________________________\n",
      "dense_6 (Dense)              (None, 256)               131328    \n",
      "_________________________________________________________________\n",
      "dense_7 (Dense)              (None, 256)               65792     \n",
      "_________________________________________________________________\n",
      "dense_8 (Dense)              (None, 128)               32896     \n",
      "_________________________________________________________________\n",
      "dense_9 (Dense)              (None, 1)                 129       \n",
      "=================================================================\n",
      "Total params: 5,350,657\n",
      "Trainable params: 5,350,657\n",
      "Non-trainable params: 0\n",
      "_________________________________________________________________\n"
     ]
    }
   ],
   "source": [
    "model = create_model()\n",
    "model.summary()"
   ]
  },
  {
   "cell_type": "code",
   "execution_count": 28,
   "metadata": {},
   "outputs": [
    {
     "data": {
      "text/plain": [
       "5120512"
      ]
     },
     "execution_count": 28,
     "metadata": {},
     "output_type": "execute_result"
    }
   ],
   "source": [
    "N_FEATURE * 512 + 512"
   ]
  },
  {
   "cell_type": "code",
   "execution_count": 30,
   "metadata": {},
   "outputs": [
    {
     "ename": "NameError",
     "evalue": "name 'plot_model' is not defined",
     "output_type": "error",
     "traceback": [
      "\u001b[1;31m---------------------------------------------------------------------------\u001b[0m",
      "\u001b[1;31mNameError\u001b[0m                                 Traceback (most recent call last)",
      "\u001b[1;32m<ipython-input-30-fa6034b90043>\u001b[0m in \u001b[0;36m<module>\u001b[1;34m\u001b[0m\n\u001b[0;32m      1\u001b[0m \u001b[1;32mimport\u001b[0m \u001b[0mmatplotlib\u001b[0m\u001b[1;33m.\u001b[0m\u001b[0mpyplot\u001b[0m \u001b[1;32mas\u001b[0m \u001b[0mplt\u001b[0m\u001b[1;33m\u001b[0m\u001b[1;33m\u001b[0m\u001b[0m\n\u001b[1;32m----> 2\u001b[1;33m \u001b[0mplot_model\u001b[0m\u001b[1;33m(\u001b[0m\u001b[0mmodel\u001b[0m\u001b[1;33m,\u001b[0m \u001b[0mshow_shapes\u001b[0m \u001b[1;33m=\u001b[0m \u001b[1;32mTrue\u001b[0m\u001b[1;33m)\u001b[0m\u001b[1;33m\u001b[0m\u001b[1;33m\u001b[0m\u001b[0m\n\u001b[0m",
      "\u001b[1;31mNameError\u001b[0m: name 'plot_model' is not defined"
     ]
    }
   ],
   "source": [
    "import matplotlib.pyplot as plt\n",
    "plot_model(model, show_shapes = True)"
   ]
  },
  {
   "cell_type": "code",
   "execution_count": 31,
   "metadata": {},
   "outputs": [
    {
     "data": {
      "text/plain": [
       "(500, 500)"
      ]
     },
     "execution_count": 31,
     "metadata": {},
     "output_type": "execute_result"
    }
   ],
   "source": [
    "# 학습\n",
    "steps_per_epoch = N_TRAIN // N_BATCHS\n",
    "validation_steps = int(np.ceil(N_TEST / N_BATCHS))\n",
    "steps_per_epoch, validation_steps"
   ]
  },
  {
   "cell_type": "code",
   "execution_count": 32,
   "metadata": {},
   "outputs": [
    {
     "name": "stdout",
     "output_type": "stream",
     "text": [
      "Train for 500 steps, validate for 500 steps\n",
      "Epoch 1/10\n",
      "500/500 [==============================] - 80s 160ms/step - loss: 0.3264 - accuracy: 0.8606 - val_loss: 0.3546 - val_accuracy: 0.8518\n",
      "Epoch 2/10\n",
      "500/500 [==============================] - 62s 125ms/step - loss: 0.1489 - accuracy: 0.9419 - val_loss: 0.4344 - val_accuracy: 0.8470\n",
      "Epoch 3/10\n",
      "500/500 [==============================] - 91s 182ms/step - loss: 0.0382 - accuracy: 0.9878 - val_loss: 0.7184 - val_accuracy: 0.8396\n",
      "Epoch 4/10\n",
      "500/500 [==============================] - 75s 150ms/step - loss: 0.0076 - accuracy: 0.9978 - val_loss: 1.2161 - val_accuracy: 0.8452\n",
      "Epoch 5/10\n",
      "500/500 [==============================] - 88s 176ms/step - loss: 0.0028 - accuracy: 0.9993 - val_loss: 1.0844 - val_accuracy: 0.8335\n",
      "Epoch 6/10\n",
      "500/500 [==============================] - 92s 184ms/step - loss: 0.0019 - accuracy: 0.9994 - val_loss: 1.3925 - val_accuracy: 0.8400\n",
      "Epoch 7/10\n",
      "500/500 [==============================] - 92s 184ms/step - loss: 0.0028 - accuracy: 0.9992 - val_loss: 1.1764 - val_accuracy: 0.8339\n",
      "Epoch 8/10\n",
      "500/500 [==============================] - 85s 169ms/step - loss: 0.0017 - accuracy: 0.9995 - val_loss: 1.5332 - val_accuracy: 0.8436\n",
      "Epoch 9/10\n",
      "500/500 [==============================] - 75s 151ms/step - loss: 5.0532e-04 - accuracy: 0.9999 - val_loss: 1.4673 - val_accuracy: 0.8411\n",
      "Epoch 10/10\n",
      "500/500 [==============================] - 69s 139ms/step - loss: 0.0035 - accuracy: 0.9990 - val_loss: 1.5482 - val_accuracy: 0.8380- loss: 0\n"
     ]
    }
   ],
   "source": [
    "history = model.fit(train_dataset,\n",
    "                    epochs = N_EPOCHS,\n",
    "                    steps_per_epoch = steps_per_epoch,\n",
    "                    validation_data = val_dataset,\n",
    "                    validation_steps = validation_steps)"
   ]
  },
  {
   "cell_type": "code",
   "execution_count": 33,
   "metadata": {},
   "outputs": [
    {
     "name": "stdout",
     "output_type": "stream",
     "text": [
      "500/500 [==============================] - 13s 27ms/step - loss: 1.5482 - accuracy: 0.8380\n"
     ]
    },
    {
     "data": {
      "text/plain": [
       "[1.5482409756183624, 0.83804]"
      ]
     },
     "execution_count": 33,
     "metadata": {},
     "output_type": "execute_result"
    }
   ],
   "source": [
    "# 평가\n",
    "model.evaluate(val_dataset)"
   ]
  },
  {
   "cell_type": "code",
   "execution_count": 34,
   "metadata": {},
   "outputs": [
    {
     "data": {
      "image/png": "[encoded data removed]",
      "text/plain": [
       "<Figure size 1080x720 with 2 Axes>"
      ]
     },
     "metadata": {
      "needs_background": "light"
     },
     "output_type": "display_data"
    }
   ],
   "source": [
    "plt.figure(figsize = (15, 10))\n",
    "plt.subplot(1, 2, 1)\n",
    "\n",
    "plt.plot(range(1, N_EPOCHS+1), history.history['loss'], label = 'train loss')\n",
    "plt.plot(range(1, N_EPOCHS+1), history.history['val_loss'], label = 'validation loss')\n",
    "plt.title('LOSS')\n",
    "plt.legend()\n",
    "\n",
    "plt.subplot(1, 2, 2)\n",
    "plt.plot(range(1, N_EPOCHS+1), history.history['accuracy'], label = 'train accuracy')\n",
    "plt.plot(range(1, N_EPOCHS+1), history.history['val_accuracy'], label = 'validation accuracy')\n",
    "plt.title('ACCURACY')\n",
    "plt.legend()\n",
    "\n",
    "plt.tight_layout()\n",
    "plt.show()"
   ]
  }
 ],
 "metadata": {
  "kernelspec": {
   "display_name": "Python 3",
   "language": "python",
   "name": "python3"
  },
  "language_info": {
   "codemirror_mode": {
    "name": "ipython",
    "version": 3
   },
   "file_extension": ".py",
   "mimetype": "text/x-python",
   "name": "python",
   "nbconvert_exporter": "python",
   "pygments_lexer": "ipython3",
   "version": "3.7.10"
  },
  "toc": {
   "base_numbering": 1,
   "nav_menu": {},
   "number_sections": false,
   "sideBar": true,
   "skip_h1_title": false,
   "title_cell": "Table of Contents",
   "title_sidebar": "Contents",
   "toc_cell": false,
   "toc_position": {},
   "toc_section_display": true,
   "toc_window_display": false
  },
  "varInspector": {
   "cols": {
    "lenName": 16,
    "lenType": 16,
    "lenVar": 40
   },
   "kernels_config": {
    "python": {
     "delete_cmd_postfix": "",
     "delete_cmd_prefix": "del ",
     "library": "var_list.py",
     "varRefreshCmd": "print(var_dic_list())"
    },
    "r": {
     "delete_cmd_postfix": ") ",
     "delete_cmd_prefix": "rm(",
     "library": "var_list.r",
     "varRefreshCmd": "cat(var_dic_list()) "
    }
   },
   "types_to_exclude": [
    "module",
    "function",
    "builtin_function_or_method",
    "instance",
    "_Feature"
   ],
   "window_display": false
  }
 },
 "nbformat": 4,
 "nbformat_minor": 2
}
